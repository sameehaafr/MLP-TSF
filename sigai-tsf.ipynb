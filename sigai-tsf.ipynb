{
 "cells": [
  {
   "cell_type": "code",
   "execution_count": null,
   "metadata": {},
   "outputs": [],
   "source": []
  },
  {
   "cell_type": "markdown",
   "metadata": {},
   "source": [
    "Importing Libraries"
   ]
  },
  {
   "cell_type": "code",
   "execution_count": 32,
   "metadata": {},
   "outputs": [],
   "source": [
    "# For data\n",
    "import pandas as pd\n",
    "import numpy as np\n",
    "\n",
    "# For plotting\n",
    "import matplotlib.pyplot as plt\n",
    "from matplotlib.pyplot import figure\n",
    "\n",
    "# For stationarity test and decomposition\n",
    "import statsmodels.tsa.api as smt\n",
    "import statsmodels.api as sm\n",
    "\n",
    "# Train, test, validation splits\n",
    "\n",
    "from sklearn.model_selection import TimeSeriesSplit\n",
    "\n",
    "\n",
    "from sklearn.metrics import r2_score, median_absolute_error, mean_absolute_error\n",
    "from sklearn.metrics import median_absolute_error, mean_squared_error, mean_squared_log_error\n",
    "from statsmodels.graphics.tsaplots import plot_pacf\n",
    "from statsmodels.graphics.tsaplots import plot_acf\n",
    "from statsmodels.tsa.arima_model import ARIMA\n",
    "from statsmodels.tsa.stattools import acf\n",
    "from statsmodels.tsa.seasonal import seasonal_decompose "
   ]
  },
  {
   "cell_type": "markdown",
   "metadata": {},
   "source": [
    "Reading in CSV/Data Cleaning"
   ]
  },
  {
   "cell_type": "code",
   "execution_count": 9,
   "metadata": {},
   "outputs": [
    {
     "data": {
      "text/html": [
       "<div>\n",
       "<style scoped>\n",
       "    .dataframe tbody tr th:only-of-type {\n",
       "        vertical-align: middle;\n",
       "    }\n",
       "\n",
       "    .dataframe tbody tr th {\n",
       "        vertical-align: top;\n",
       "    }\n",
       "\n",
       "    .dataframe thead th {\n",
       "        text-align: right;\n",
       "    }\n",
       "</style>\n",
       "<table border=\"1\" class=\"dataframe\">\n",
       "  <thead>\n",
       "    <tr style=\"text-align: right;\">\n",
       "      <th></th>\n",
       "      <th>Date</th>\n",
       "      <th>Source</th>\n",
       "      <th>Site ID</th>\n",
       "      <th>POC</th>\n",
       "      <th>Daily Mean PM10 Concentration</th>\n",
       "      <th>UNITS</th>\n",
       "      <th>DAILY_AQI_VALUE</th>\n",
       "      <th>Site Name</th>\n",
       "      <th>DAILY_OBS_COUNT</th>\n",
       "      <th>PERCENT_COMPLETE</th>\n",
       "      <th>AQS_PARAMETER_CODE</th>\n",
       "      <th>AQS_PARAMETER_DESC</th>\n",
       "      <th>CBSA_CODE</th>\n",
       "      <th>CBSA_NAME</th>\n",
       "      <th>STATE_CODE</th>\n",
       "      <th>STATE</th>\n",
       "      <th>COUNTY_CODE</th>\n",
       "      <th>COUNTY</th>\n",
       "      <th>SITE_LATITUDE</th>\n",
       "      <th>SITE_LONGITUDE</th>\n",
       "    </tr>\n",
       "  </thead>\n",
       "  <tbody>\n",
       "    <tr>\n",
       "      <th>0</th>\n",
       "      <td>01/01/2021</td>\n",
       "      <td>AQS</td>\n",
       "      <td>60070008</td>\n",
       "      <td>3</td>\n",
       "      <td>24</td>\n",
       "      <td>ug/m3 SC</td>\n",
       "      <td>22</td>\n",
       "      <td>Chico-East Avenue</td>\n",
       "      <td>1</td>\n",
       "      <td>100.0</td>\n",
       "      <td>81102</td>\n",
       "      <td>PM10 Total 0-10um STP</td>\n",
       "      <td>17020.0</td>\n",
       "      <td>Chico, CA</td>\n",
       "      <td>6</td>\n",
       "      <td>California</td>\n",
       "      <td>7</td>\n",
       "      <td>Butte</td>\n",
       "      <td>39.76168</td>\n",
       "      <td>-121.84047</td>\n",
       "    </tr>\n",
       "    <tr>\n",
       "      <th>1</th>\n",
       "      <td>01/02/2021</td>\n",
       "      <td>AQS</td>\n",
       "      <td>60070008</td>\n",
       "      <td>3</td>\n",
       "      <td>21</td>\n",
       "      <td>ug/m3 SC</td>\n",
       "      <td>19</td>\n",
       "      <td>Chico-East Avenue</td>\n",
       "      <td>1</td>\n",
       "      <td>100.0</td>\n",
       "      <td>81102</td>\n",
       "      <td>PM10 Total 0-10um STP</td>\n",
       "      <td>17020.0</td>\n",
       "      <td>Chico, CA</td>\n",
       "      <td>6</td>\n",
       "      <td>California</td>\n",
       "      <td>7</td>\n",
       "      <td>Butte</td>\n",
       "      <td>39.76168</td>\n",
       "      <td>-121.84047</td>\n",
       "    </tr>\n",
       "    <tr>\n",
       "      <th>2</th>\n",
       "      <td>01/03/2021</td>\n",
       "      <td>AQS</td>\n",
       "      <td>60070008</td>\n",
       "      <td>3</td>\n",
       "      <td>19</td>\n",
       "      <td>ug/m3 SC</td>\n",
       "      <td>18</td>\n",
       "      <td>Chico-East Avenue</td>\n",
       "      <td>1</td>\n",
       "      <td>100.0</td>\n",
       "      <td>81102</td>\n",
       "      <td>PM10 Total 0-10um STP</td>\n",
       "      <td>17020.0</td>\n",
       "      <td>Chico, CA</td>\n",
       "      <td>6</td>\n",
       "      <td>California</td>\n",
       "      <td>7</td>\n",
       "      <td>Butte</td>\n",
       "      <td>39.76168</td>\n",
       "      <td>-121.84047</td>\n",
       "    </tr>\n",
       "    <tr>\n",
       "      <th>3</th>\n",
       "      <td>01/04/2021</td>\n",
       "      <td>AQS</td>\n",
       "      <td>60070008</td>\n",
       "      <td>3</td>\n",
       "      <td>10</td>\n",
       "      <td>ug/m3 SC</td>\n",
       "      <td>9</td>\n",
       "      <td>Chico-East Avenue</td>\n",
       "      <td>1</td>\n",
       "      <td>100.0</td>\n",
       "      <td>81102</td>\n",
       "      <td>PM10 Total 0-10um STP</td>\n",
       "      <td>17020.0</td>\n",
       "      <td>Chico, CA</td>\n",
       "      <td>6</td>\n",
       "      <td>California</td>\n",
       "      <td>7</td>\n",
       "      <td>Butte</td>\n",
       "      <td>39.76168</td>\n",
       "      <td>-121.84047</td>\n",
       "    </tr>\n",
       "    <tr>\n",
       "      <th>4</th>\n",
       "      <td>01/05/2021</td>\n",
       "      <td>AQS</td>\n",
       "      <td>60070008</td>\n",
       "      <td>3</td>\n",
       "      <td>12</td>\n",
       "      <td>ug/m3 SC</td>\n",
       "      <td>11</td>\n",
       "      <td>Chico-East Avenue</td>\n",
       "      <td>1</td>\n",
       "      <td>100.0</td>\n",
       "      <td>81102</td>\n",
       "      <td>PM10 Total 0-10um STP</td>\n",
       "      <td>17020.0</td>\n",
       "      <td>Chico, CA</td>\n",
       "      <td>6</td>\n",
       "      <td>California</td>\n",
       "      <td>7</td>\n",
       "      <td>Butte</td>\n",
       "      <td>39.76168</td>\n",
       "      <td>-121.84047</td>\n",
       "    </tr>\n",
       "  </tbody>\n",
       "</table>\n",
       "</div>"
      ],
      "text/plain": [
       "         Date Source   Site ID  POC  Daily Mean PM10 Concentration     UNITS  \\\n",
       "0  01/01/2021    AQS  60070008    3                             24  ug/m3 SC   \n",
       "1  01/02/2021    AQS  60070008    3                             21  ug/m3 SC   \n",
       "2  01/03/2021    AQS  60070008    3                             19  ug/m3 SC   \n",
       "3  01/04/2021    AQS  60070008    3                             10  ug/m3 SC   \n",
       "4  01/05/2021    AQS  60070008    3                             12  ug/m3 SC   \n",
       "\n",
       "   DAILY_AQI_VALUE          Site Name  DAILY_OBS_COUNT  PERCENT_COMPLETE  \\\n",
       "0               22  Chico-East Avenue                1             100.0   \n",
       "1               19  Chico-East Avenue                1             100.0   \n",
       "2               18  Chico-East Avenue                1             100.0   \n",
       "3                9  Chico-East Avenue                1             100.0   \n",
       "4               11  Chico-East Avenue                1             100.0   \n",
       "\n",
       "   AQS_PARAMETER_CODE     AQS_PARAMETER_DESC  CBSA_CODE  CBSA_NAME  \\\n",
       "0               81102  PM10 Total 0-10um STP    17020.0  Chico, CA   \n",
       "1               81102  PM10 Total 0-10um STP    17020.0  Chico, CA   \n",
       "2               81102  PM10 Total 0-10um STP    17020.0  Chico, CA   \n",
       "3               81102  PM10 Total 0-10um STP    17020.0  Chico, CA   \n",
       "4               81102  PM10 Total 0-10um STP    17020.0  Chico, CA   \n",
       "\n",
       "   STATE_CODE       STATE  COUNTY_CODE COUNTY  SITE_LATITUDE  SITE_LONGITUDE  \n",
       "0           6  California            7  Butte       39.76168      -121.84047  \n",
       "1           6  California            7  Butte       39.76168      -121.84047  \n",
       "2           6  California            7  Butte       39.76168      -121.84047  \n",
       "3           6  California            7  Butte       39.76168      -121.84047  \n",
       "4           6  California            7  Butte       39.76168      -121.84047  "
      ]
     },
     "execution_count": 9,
     "metadata": {},
     "output_type": "execute_result"
    }
   ],
   "source": [
    "df = pd.read_csv(\"ad_viz_plotval_data.csv\")\n",
    "df.head(5)"
   ]
  },
  {
   "cell_type": "code",
   "execution_count": 14,
   "metadata": {},
   "outputs": [
    {
     "data": {
      "text/plain": [
       "Date                             datetime64[ns]\n",
       "Source                                   object\n",
       "Site ID                                   int64\n",
       "POC                                       int64\n",
       "Daily Mean PM10 Concentration             int64\n",
       "UNITS                                    object\n",
       "DAILY_AQI_VALUE                           int64\n",
       "Site Name                                object\n",
       "DAILY_OBS_COUNT                           int64\n",
       "PERCENT_COMPLETE                        float64\n",
       "AQS_PARAMETER_CODE                        int64\n",
       "AQS_PARAMETER_DESC                       object\n",
       "CBSA_CODE                               float64\n",
       "CBSA_NAME                                object\n",
       "STATE_CODE                                int64\n",
       "STATE                                    object\n",
       "COUNTY_CODE                               int64\n",
       "COUNTY                                   object\n",
       "SITE_LATITUDE                           float64\n",
       "SITE_LONGITUDE                          float64\n",
       "dtype: object"
      ]
     },
     "execution_count": 14,
     "metadata": {},
     "output_type": "execute_result"
    }
   ],
   "source": [
    "df.dtypes"
   ]
  },
  {
   "cell_type": "code",
   "execution_count": 13,
   "metadata": {},
   "outputs": [],
   "source": [
    "df['Date'] = pd.to_datetime(df['Date'])"
   ]
  },
  {
   "cell_type": "code",
   "execution_count": 41,
   "metadata": {},
   "outputs": [
    {
     "data": {
      "text/plain": [
       "Date\n",
       "2021-01-01    1454\n",
       "2021-01-02    1533\n",
       "2021-01-03    1578\n",
       "2021-01-04    2474\n",
       "2021-01-05    1479\n",
       "Name: Daily Mean PM10 Concentration, dtype: int64"
      ]
     },
     "execution_count": 41,
     "metadata": {},
     "output_type": "execute_result"
    }
   ],
   "source": [
    "#new data frame with only relevant data\n",
    "\n",
    "df_PM10 = df[[\"Date\", \"Daily Mean PM10 Concentration\"]]\n",
    "df_PM10 = df_PM10.groupby(df_PM10[\"Date\"])[\"Daily Mean PM10 Concentration\"].sum()\n",
    "df_PM10.head()"
   ]
  },
  {
   "cell_type": "code",
   "execution_count": 42,
   "metadata": {},
   "outputs": [
    {
     "data": {
      "text/plain": [
       "Date\n",
       "2021-01-01    1454\n",
       "2021-01-02    1533\n",
       "2021-01-03    1578\n",
       "2021-01-04    2474\n",
       "2021-01-05    1479\n",
       "              ... \n",
       "2021-12-27     779\n",
       "2021-12-28     595\n",
       "2021-12-29     529\n",
       "2021-12-30     924\n",
       "2021-12-31    1078\n",
       "Name: Daily Mean PM10 Concentration, Length: 365, dtype: int64"
      ]
     },
     "execution_count": 42,
     "metadata": {},
     "output_type": "execute_result"
    }
   ],
   "source": [
    "# drop null values\n",
    "df_PM10.dropna()"
   ]
  },
  {
   "cell_type": "markdown",
   "metadata": {},
   "source": [
    "EDA"
   ]
  },
  {
   "cell_type": "code",
   "execution_count": 21,
   "metadata": {},
   "outputs": [
    {
     "data": {
      "image/png": "[encoded data removed]",
      "text/plain": [
       "<Figure size 432x288 with 1 Axes>"
      ]
     },
     "metadata": {
      "needs_background": "light"
     },
     "output_type": "display_data"
    }
   ],
   "source": [
    "plt.plot(df_PM10['Date'], df_PM10['Daily Mean PM10 Concentration'])\n",
    "plt.show()"
   ]
  },
  {
   "cell_type": "code",
   "execution_count": 40,
   "metadata": {},
   "outputs": [
    {
     "data": {
      "image/png": "[encoded data removed]",
      "text/plain": [
       "<Figure size 432x288 with 1 Axes>"
      ]
     },
     "metadata": {
      "needs_background": "light"
     },
     "output_type": "display_data"
    },
    {
     "data": {
      "text/plain": [
       "<Figure size 3000x2500 with 0 Axes>"
      ]
     },
     "metadata": {},
     "output_type": "display_data"
    }
   ],
   "source": [
    "df_PM10.plot()\n",
    "\n",
    "figure(figsize=(30, 25), dpi=100)\n",
    "\n",
    "plt.show()"
   ]
  },
  {
   "cell_type": "code",
   "execution_count": null,
   "metadata": {},
   "outputs": [],
   "source": []
  },
  {
   "cell_type": "markdown",
   "metadata": {},
   "source": [
    "Checking Stationarity/Differencing"
   ]
  },
  {
   "cell_type": "markdown",
   "metadata": {},
   "source": [
    "Model Building"
   ]
  },
  {
   "cell_type": "code",
   "execution_count": null,
   "metadata": {},
   "outputs": [],
   "source": []
  }
 ],
 "metadata": {
  "kernelspec": {
   "display_name": "Python 3.8.5 64-bit",
   "language": "python",
   "name": "python3"
  },
  "language_info": {
   "codemirror_mode": {
    "name": "ipython",
    "version": 3
   },
   "file_extension": ".py",
   "mimetype": "text/x-python",
   "name": "python",
   "nbconvert_exporter": "python",
   "pygments_lexer": "ipython3",
   "version": "3.8.5"
  },
  "orig_nbformat": 4,
  "vscode": {
   "interpreter": {
    "hash": "aee8b7b246df8f9039afb4144a1f6fd8d2ca17a180786b69acc140d282b71a49"
   }
  }
 },
 "nbformat": 4,
 "nbformat_minor": 2
}
