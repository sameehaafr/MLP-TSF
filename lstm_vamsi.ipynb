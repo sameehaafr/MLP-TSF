{
  "cells": [
    {
      "cell_type": "code",
      "execution_count": 34,
      "metadata": {
        "id": "_X0dGU0Dmam6"
      },
      "outputs": [],
      "source": [
        "import pandas as pd\n",
        "from sklearn.model_selection import train_test_split\n",
        "from keras.layers import LSTM, Dense\n",
        "from keras.models import Sequential\n",
        "import matplotlib.pyplot as plt\n",
        "import numpy as np\n",
        "import tensorflow as tf\n",
        "from numpy import array"
      ]
    },
    {
      "cell_type": "code",
      "execution_count": 35,
      "metadata": {
        "id": "viNchKFgmdmA"
      },
      "outputs": [],
      "source": [
        "la_2020 = pd.read_csv('./data/LA_pm10_2020.csv')\n",
        "la_2021 = pd.read_csv('./data/LA_pm10_2021.csv')\n",
        "la_2022 = pd.read_csv('./data/LA_pm10_2022.csv')"
      ]
    },
    {
      "cell_type": "code",
      "execution_count": 37,
      "metadata": {
        "id": "sW6vyrGVmd_0"
      },
      "outputs": [],
      "source": [
        "# subsetting\n",
        "la_2020 = la_2020[['Date', 'Daily Mean PM10 Concentration']]\n",
        "la_2021 = la_2021[['Date', 'Daily Mean PM10 Concentration']]\n",
        "la_2022 = la_2022[['Date', 'Daily Mean PM10 Concentration']]"
      ]
    },
    {
      "cell_type": "code",
      "execution_count": 38,
      "metadata": {
        "colab": {
          "base_uri": "https://localhost:8080/"
        },
        "id": "ROZscRmvmje2",
        "outputId": "69f6e3df-8a6f-4ae2-857c-d656faf0fd10"
      },
      "outputs": [],
      "source": [
        "# converting all to datetime\n",
        "la_2020['Date'] = pd.to_datetime(la_2020['Date'])\n",
        "la_2021['Date'] = pd.to_datetime(la_2021['Date'])\n",
        "la_2022['Date'] = pd.to_datetime(la_2022['Date'])"
      ]
    },
    {
      "cell_type": "code",
      "execution_count": 6,
      "metadata": {
        "id": "NH_FBxiFmk1j"
      },
      "outputs": [],
      "source": [
        "# # merging\n",
        "# la_pm10 = pd.concat([la_2020, la_2021, la_2022])\n",
        "# la_pm10.rename(columns = {'Daily Mean PM10 Concentration':'daily_pm10'}, inplace = True)"
      ]
    },
    {
      "cell_type": "code",
      "execution_count": 39,
      "metadata": {},
      "outputs": [],
      "source": [
        "#merging\n",
        "la_pm10 = pd.concat([la_2020, la_2021])\n",
        "la_pm10.rename(columns = {'Daily Mean PM10 Concentration':'daily_pm10'}, inplace = True)\n",
        "la_2022.rename(columns = {'Daily Mean PM10 Concentration':'daily_pm10'}, inplace = True)"
      ]
    },
    {
      "cell_type": "code",
      "execution_count": 40,
      "metadata": {
        "id": "fs9XI1sRmnog"
      },
      "outputs": [],
      "source": [
        "# dropping null cols\n",
        "la_pm10 = la_pm10.dropna()"
      ]
    },
    {
      "cell_type": "code",
      "execution_count": 41,
      "metadata": {},
      "outputs": [
        {
          "data": {
            "text/html": [
              "<div>\n",
              "<style scoped>\n",
              "    .dataframe tbody tr th:only-of-type {\n",
              "        vertical-align: middle;\n",
              "    }\n",
              "\n",
              "    .dataframe tbody tr th {\n",
              "        vertical-align: top;\n",
              "    }\n",
              "\n",
              "    .dataframe thead th {\n",
              "        text-align: right;\n",
              "    }\n",
              "</style>\n",
              "<table border=\"1\" class=\"dataframe\">\n",
              "  <thead>\n",
              "    <tr style=\"text-align: right;\">\n",
              "      <th></th>\n",
              "      <th>Date</th>\n",
              "      <th>daily_pm10</th>\n",
              "    </tr>\n",
              "  </thead>\n",
              "  <tbody>\n",
              "    <tr>\n",
              "      <th>0</th>\n",
              "      <td>2020-01-04</td>\n",
              "      <td>25</td>\n",
              "    </tr>\n",
              "    <tr>\n",
              "      <th>1</th>\n",
              "      <td>2020-01-10</td>\n",
              "      <td>20</td>\n",
              "    </tr>\n",
              "    <tr>\n",
              "      <th>2</th>\n",
              "      <td>2020-01-16</td>\n",
              "      <td>32</td>\n",
              "    </tr>\n",
              "    <tr>\n",
              "      <th>3</th>\n",
              "      <td>2020-01-22</td>\n",
              "      <td>21</td>\n",
              "    </tr>\n",
              "    <tr>\n",
              "      <th>4</th>\n",
              "      <td>2020-01-28</td>\n",
              "      <td>23</td>\n",
              "    </tr>\n",
              "  </tbody>\n",
              "</table>\n",
              "</div>"
            ],
            "text/plain": [
              "        Date  daily_pm10\n",
              "0 2020-01-04          25\n",
              "1 2020-01-10          20\n",
              "2 2020-01-16          32\n",
              "3 2020-01-22          21\n",
              "4 2020-01-28          23"
            ]
          },
          "execution_count": 41,
          "metadata": {},
          "output_type": "execute_result"
        }
      ],
      "source": [
        "la_pm10.head()"
      ]
    },
    {
      "cell_type": "code",
      "execution_count": 42,
      "metadata": {},
      "outputs": [
        {
          "data": {
            "text/html": [
              "<div>\n",
              "<style scoped>\n",
              "    .dataframe tbody tr th:only-of-type {\n",
              "        vertical-align: middle;\n",
              "    }\n",
              "\n",
              "    .dataframe tbody tr th {\n",
              "        vertical-align: top;\n",
              "    }\n",
              "\n",
              "    .dataframe thead th {\n",
              "        text-align: right;\n",
              "    }\n",
              "</style>\n",
              "<table border=\"1\" class=\"dataframe\">\n",
              "  <thead>\n",
              "    <tr style=\"text-align: right;\">\n",
              "      <th></th>\n",
              "      <th>Date</th>\n",
              "      <th>daily_pm10</th>\n",
              "    </tr>\n",
              "  </thead>\n",
              "  <tbody>\n",
              "    <tr>\n",
              "      <th>983</th>\n",
              "      <td>2021-12-27</td>\n",
              "      <td>6</td>\n",
              "    </tr>\n",
              "    <tr>\n",
              "      <th>984</th>\n",
              "      <td>2021-12-28</td>\n",
              "      <td>6</td>\n",
              "    </tr>\n",
              "    <tr>\n",
              "      <th>985</th>\n",
              "      <td>2021-12-29</td>\n",
              "      <td>5</td>\n",
              "    </tr>\n",
              "    <tr>\n",
              "      <th>986</th>\n",
              "      <td>2021-12-30</td>\n",
              "      <td>4</td>\n",
              "    </tr>\n",
              "    <tr>\n",
              "      <th>987</th>\n",
              "      <td>2021-12-31</td>\n",
              "      <td>7</td>\n",
              "    </tr>\n",
              "  </tbody>\n",
              "</table>\n",
              "</div>"
            ],
            "text/plain": [
              "          Date  daily_pm10\n",
              "983 2021-12-27           6\n",
              "984 2021-12-28           6\n",
              "985 2021-12-29           5\n",
              "986 2021-12-30           4\n",
              "987 2021-12-31           7"
            ]
          },
          "execution_count": 42,
          "metadata": {},
          "output_type": "execute_result"
        }
      ],
      "source": [
        "la_pm10.tail()"
      ]
    },
    {
      "cell_type": "code",
      "execution_count": 11,
      "metadata": {
        "colab": {
          "base_uri": "https://localhost:8080/",
          "height": 81
        },
        "id": "RJ5DxO2fmo5M",
        "outputId": "31b0b57b-af25-4d11-e304-60b95efc8d43"
      },
      "outputs": [
        {
          "data": {
            "text/html": [
              "<div>\n",
              "<style scoped>\n",
              "    .dataframe tbody tr th:only-of-type {\n",
              "        vertical-align: middle;\n",
              "    }\n",
              "\n",
              "    .dataframe tbody tr th {\n",
              "        vertical-align: top;\n",
              "    }\n",
              "\n",
              "    .dataframe thead th {\n",
              "        text-align: right;\n",
              "    }\n",
              "</style>\n",
              "<table border=\"1\" class=\"dataframe\">\n",
              "  <thead>\n",
              "    <tr style=\"text-align: right;\">\n",
              "      <th></th>\n",
              "      <th>Date</th>\n",
              "      <th>daily_pm10</th>\n",
              "    </tr>\n",
              "  </thead>\n",
              "  <tbody>\n",
              "    <tr>\n",
              "      <th>906</th>\n",
              "      <td>2021-10-11</td>\n",
              "      <td>411</td>\n",
              "    </tr>\n",
              "  </tbody>\n",
              "</table>\n",
              "</div>"
            ],
            "text/plain": [
              "          Date  daily_pm10\n",
              "906 2021-10-11         411"
            ]
          },
          "execution_count": 11,
          "metadata": {},
          "output_type": "execute_result"
        }
      ],
      "source": [
        "# # finding row with max pm10 value\n",
        "# la_pm10.loc[(la_pm10['daily_pm10'] == max(la_pm10['daily_pm10']))]"
      ]
    },
    {
      "cell_type": "code",
      "execution_count": 12,
      "metadata": {
        "id": "PugKKIsxmw8T"
      },
      "outputs": [],
      "source": [
        "# #normalizing\n",
        "# la_pm10['daily_pm10'] = (la_pm10['daily_pm10'] - la_pm10['daily_pm10'].mean()) / la_pm10['daily_pm10'].std()"
      ]
    },
    {
      "cell_type": "code",
      "execution_count": 66,
      "metadata": {},
      "outputs": [
        {
          "data": {
            "text/html": [
              "<div>\n",
              "<style scoped>\n",
              "    .dataframe tbody tr th:only-of-type {\n",
              "        vertical-align: middle;\n",
              "    }\n",
              "\n",
              "    .dataframe tbody tr th {\n",
              "        vertical-align: top;\n",
              "    }\n",
              "\n",
              "    .dataframe thead th {\n",
              "        text-align: right;\n",
              "    }\n",
              "</style>\n",
              "<table border=\"1\" class=\"dataframe\">\n",
              "  <thead>\n",
              "    <tr style=\"text-align: right;\">\n",
              "      <th></th>\n",
              "      <th>Date</th>\n",
              "      <th>daily_pm10</th>\n",
              "    </tr>\n",
              "  </thead>\n",
              "  <tbody>\n",
              "    <tr>\n",
              "      <th>0</th>\n",
              "      <td>2020-01-04</td>\n",
              "      <td>25</td>\n",
              "    </tr>\n",
              "    <tr>\n",
              "      <th>1</th>\n",
              "      <td>2020-01-10</td>\n",
              "      <td>20</td>\n",
              "    </tr>\n",
              "    <tr>\n",
              "      <th>2</th>\n",
              "      <td>2020-01-16</td>\n",
              "      <td>32</td>\n",
              "    </tr>\n",
              "    <tr>\n",
              "      <th>3</th>\n",
              "      <td>2020-01-22</td>\n",
              "      <td>21</td>\n",
              "    </tr>\n",
              "    <tr>\n",
              "      <th>4</th>\n",
              "      <td>2020-01-28</td>\n",
              "      <td>23</td>\n",
              "    </tr>\n",
              "  </tbody>\n",
              "</table>\n",
              "</div>"
            ],
            "text/plain": [
              "        Date  daily_pm10\n",
              "0 2020-01-04          25\n",
              "1 2020-01-10          20\n",
              "2 2020-01-16          32\n",
              "3 2020-01-22          21\n",
              "4 2020-01-28          23"
            ]
          },
          "execution_count": 66,
          "metadata": {},
          "output_type": "execute_result"
        }
      ],
      "source": [
        "la_pm10.head()"
      ]
    },
    {
      "cell_type": "markdown",
      "metadata": {
        "id": "pMAatdLvnAcf"
      },
      "source": [
        "Data Split"
      ]
    },
    {
      "cell_type": "code",
      "execution_count": 67,
      "metadata": {},
      "outputs": [],
      "source": [
        "def split_sequence(sequence, n_steps):\n",
        "\tX, y = list(), list()\n",
        "\tfor i in range(len(sequence)):\n",
        "\t\t# find the end of this pattern\n",
        "\t\tend_ix = i + n_steps\n",
        "\t\t# check if we are beyond the sequence\n",
        "\t\tif end_ix > len(sequence)-1:\n",
        "\t\t\tbreak\n",
        "\t\t# gather input and output parts of the pattern\n",
        "\t\tseq_x, seq_y = sequence[i:end_ix], sequence[end_ix]\n",
        "\t\tX.append(seq_x)\n",
        "\t\ty.append(seq_y)\n",
        "\treturn array(X), array(y)"
      ]
    },
    {
      "cell_type": "code",
      "execution_count": 79,
      "metadata": {},
      "outputs": [],
      "source": [
        "from sklearn.base import BaseEstimator, TransformerMixin\n",
        "from sklearn.utils.validation import check_array, check_is_fitted\n",
        "from sklearn.pipeline import Pipeline\n",
        "from sklearn.preprocessing import MinMaxScaler\n",
        "\n",
        "scaler = MinMaxScaler(feature_range=(-1,1))\n",
        "scaler.fit(la_pm10[['daily_pm10']])\n",
        "\n",
        "class DataScaler(BaseEstimator, TransformerMixin):\n",
        "    def __init__(self, scaler) -> None:\n",
        "        super().__init__()\n",
        "        self.scaler = scaler\n",
        "    def fit(self, X, y=None):\n",
        "        X = check_array(X)\n",
        "        return self\n",
        "    def transform(self, X):\n",
        "        return scaler.transform(X)\n",
        "\n",
        "class DataSplitter(BaseEstimator, TransformerMixin):\n",
        "    def __init__(self) -> None:\n",
        "        super().__init__()\n",
        "    def fit(self, X, y=None):\n",
        "        X = check_array(X)\n",
        "        return self\n",
        "    def transform(self, X):\n",
        "        X = X.reshape(X.shape[0],).tolist()\n",
        "        X = X[0:len(X)-1]\n",
        "        x,y = split_sequence(X, 10)\n",
        "        x = x.reshape((x.shape[0], x.shape[1], 1))\n",
        "        return x,y\n",
        "\n",
        "data_pipeline = Pipeline([\n",
        "    (\"scaler\", DataScaler(scaler=scaler)),\n",
        "    (\"splitter\", DataSplitter())\n",
        "])"
      ]
    },
    {
      "cell_type": "code",
      "execution_count": 80,
      "metadata": {},
      "outputs": [],
      "source": [
        "x_train, y_train = data_pipeline.transform(la_pm10[['daily_pm10']])"
      ]
    },
    {
      "cell_type": "code",
      "execution_count": 81,
      "metadata": {},
      "outputs": [
        {
          "data": {
            "text/plain": [
              "array([[[-0.8783455 ],\n",
              "        [-0.9026764 ],\n",
              "        [-0.84428224],\n",
              "        ...,\n",
              "        [-0.84428224],\n",
              "        [-0.86861314],\n",
              "        [-0.90754258]],\n",
              "\n",
              "       [[-0.9026764 ],\n",
              "        [-0.84428224],\n",
              "        [-0.89781022],\n",
              "        ...,\n",
              "        [-0.86861314],\n",
              "        [-0.90754258],\n",
              "        [-0.8296837 ]],\n",
              "\n",
              "       [[-0.84428224],\n",
              "        [-0.89781022],\n",
              "        [-0.88807786],\n",
              "        ...,\n",
              "        [-0.90754258],\n",
              "        [-0.8296837 ],\n",
              "        [-0.9756691 ]],\n",
              "\n",
              "       ...,\n",
              "\n",
              "       [[-0.90754258],\n",
              "        [-0.88807786],\n",
              "        [-0.8540146 ],\n",
              "        ...,\n",
              "        [-0.9756691 ],\n",
              "        [-0.98053528],\n",
              "        [-0.97080292]],\n",
              "\n",
              "       [[-0.88807786],\n",
              "        [-0.8540146 ],\n",
              "        [-0.83941606],\n",
              "        ...,\n",
              "        [-0.98053528],\n",
              "        [-0.97080292],\n",
              "        [-0.97080292]],\n",
              "\n",
              "       [[-0.8540146 ],\n",
              "        [-0.83941606],\n",
              "        [-0.8540146 ],\n",
              "        ...,\n",
              "        [-0.97080292],\n",
              "        [-0.97080292],\n",
              "        [-0.9756691 ]]])"
            ]
          },
          "execution_count": 81,
          "metadata": {},
          "output_type": "execute_result"
        }
      ],
      "source": [
        "x_train"
      ]
    },
    {
      "cell_type": "code",
      "execution_count": 82,
      "metadata": {},
      "outputs": [
        {
          "data": {
            "text/plain": [
              "array([-0.8296837 , -0.9756691 , -0.94647202, ..., -0.97080292,\n",
              "       -0.9756691 , -0.98053528])"
            ]
          },
          "execution_count": 82,
          "metadata": {},
          "output_type": "execute_result"
        }
      ],
      "source": [
        "y_train"
      ]
    },
    {
      "cell_type": "code",
      "execution_count": 84,
      "metadata": {
        "id": "qa8hkxzMnJAZ"
      },
      "outputs": [
        {
          "name": "stdout",
          "output_type": "stream",
          "text": [
            "WARNING:tensorflow:Layer lstm_2 will not use cuDNN kernels since it doesn't meet the criteria. It will use a generic GPU kernel as fallback when running on GPU.\n"
          ]
        }
      ],
      "source": [
        "# define model\n",
        "n_steps = 10\n",
        "n_features = 1\n",
        "model = Sequential()\n",
        "model.add(LSTM(50, activation='relu', input_shape=(n_steps, n_features)))\n",
        "model.add(Dense(1))\n",
        "model.compile(optimizer='adam', loss='mse')"
      ]
    },
    {
      "cell_type": "code",
      "execution_count": 85,
      "metadata": {},
      "outputs": [],
      "source": [
        "tf.config.run_functions_eagerly(True)\n",
        "tf.data.experimental.enable_debug_mode()"
      ]
    },
    {
      "cell_type": "code",
      "execution_count": 86,
      "metadata": {},
      "outputs": [
        {
          "name": "stderr",
          "output_type": "stream",
          "text": [
            "2023-02-21 18:14:35.386984: I tensorflow/stream_executor/cuda/cuda_blas.cc:1614] TensorFloat-32 will be used for the matrix multiplication. This will only be logged once.\n"
          ]
        },
        {
          "data": {
            "text/plain": [
              "<keras.callbacks.History at 0x7f0c5b4c2f80>"
            ]
          },
          "execution_count": 86,
          "metadata": {},
          "output_type": "execute_result"
        }
      ],
      "source": [
        "model.fit(x_train, y_train, epochs=200, verbose=0)"
      ]
    },
    {
      "cell_type": "code",
      "execution_count": 87,
      "metadata": {},
      "outputs": [],
      "source": [
        "model.save('models/lstm_model_1.h5')"
      ]
    },
    {
      "cell_type": "code",
      "execution_count": 33,
      "metadata": {},
      "outputs": [],
      "source": [
        "# import joblib\n",
        "# from joblib import Parallel, delayed\n",
        "\n",
        "# joblib.dump(model, './models/keras_lstm_1.pkl')"
      ]
    }
  ],
  "metadata": {
    "colab": {
      "provenance": []
    },
    "kernelspec": {
      "display_name": "homl3",
      "language": "python",
      "name": "python3"
    },
    "language_info": {
      "codemirror_mode": {
        "name": "ipython",
        "version": 3
      },
      "file_extension": ".py",
      "mimetype": "text/x-python",
      "name": "python",
      "nbconvert_exporter": "python",
      "pygments_lexer": "ipython3",
      "version": "3.10.8"
    },
    "vscode": {
      "interpreter": {
        "hash": "cb11495483f8bc9329e70cd93d4d6000fab5e0ef74cd85abb85772776aaa6b42"
      }
    }
  },
  "nbformat": 4,
  "nbformat_minor": 0
}
