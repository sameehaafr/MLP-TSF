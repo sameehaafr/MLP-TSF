{
 "cells": [
  {
   "cell_type": "code",
   "execution_count": 1,
   "metadata": {},
   "outputs": [],
   "source": [
    "import pandas as pd\n",
    "import numpy as np\n",
    "import matplotlib.pyplot as plt"
   ]
  },
  {
   "cell_type": "code",
   "execution_count": 2,
   "metadata": {},
   "outputs": [],
   "source": [
    "data = pd.read_csv('ad_viz_plotval_data.csv')"
   ]
  },
  {
   "cell_type": "code",
   "execution_count": 3,
   "metadata": {},
   "outputs": [
    {
     "data": {
      "text/html": [
       "<div>\n",
       "<style scoped>\n",
       "    .dataframe tbody tr th:only-of-type {\n",
       "        vertical-align: middle;\n",
       "    }\n",
       "\n",
       "    .dataframe tbody tr th {\n",
       "        vertical-align: top;\n",
       "    }\n",
       "\n",
       "    .dataframe thead th {\n",
       "        text-align: right;\n",
       "    }\n",
       "</style>\n",
       "<table border=\"1\" class=\"dataframe\">\n",
       "  <thead>\n",
       "    <tr style=\"text-align: right;\">\n",
       "      <th></th>\n",
       "      <th>Date</th>\n",
       "      <th>Source</th>\n",
       "      <th>Site ID</th>\n",
       "      <th>POC</th>\n",
       "      <th>Daily Mean PM10 Concentration</th>\n",
       "      <th>UNITS</th>\n",
       "      <th>DAILY_AQI_VALUE</th>\n",
       "      <th>Site Name</th>\n",
       "      <th>DAILY_OBS_COUNT</th>\n",
       "      <th>PERCENT_COMPLETE</th>\n",
       "      <th>AQS_PARAMETER_CODE</th>\n",
       "      <th>AQS_PARAMETER_DESC</th>\n",
       "      <th>CBSA_CODE</th>\n",
       "      <th>CBSA_NAME</th>\n",
       "      <th>STATE_CODE</th>\n",
       "      <th>STATE</th>\n",
       "      <th>COUNTY_CODE</th>\n",
       "      <th>COUNTY</th>\n",
       "      <th>SITE_LATITUDE</th>\n",
       "      <th>SITE_LONGITUDE</th>\n",
       "    </tr>\n",
       "  </thead>\n",
       "  <tbody>\n",
       "    <tr>\n",
       "      <th>0</th>\n",
       "      <td>01/01/2021</td>\n",
       "      <td>AQS</td>\n",
       "      <td>60070008</td>\n",
       "      <td>3</td>\n",
       "      <td>24</td>\n",
       "      <td>ug/m3 SC</td>\n",
       "      <td>22</td>\n",
       "      <td>Chico-East Avenue</td>\n",
       "      <td>1</td>\n",
       "      <td>100.0</td>\n",
       "      <td>81102</td>\n",
       "      <td>PM10 Total 0-10um STP</td>\n",
       "      <td>17020.0</td>\n",
       "      <td>Chico, CA</td>\n",
       "      <td>6</td>\n",
       "      <td>California</td>\n",
       "      <td>7</td>\n",
       "      <td>Butte</td>\n",
       "      <td>39.76168</td>\n",
       "      <td>-121.84047</td>\n",
       "    </tr>\n",
       "    <tr>\n",
       "      <th>1</th>\n",
       "      <td>01/02/2021</td>\n",
       "      <td>AQS</td>\n",
       "      <td>60070008</td>\n",
       "      <td>3</td>\n",
       "      <td>21</td>\n",
       "      <td>ug/m3 SC</td>\n",
       "      <td>19</td>\n",
       "      <td>Chico-East Avenue</td>\n",
       "      <td>1</td>\n",
       "      <td>100.0</td>\n",
       "      <td>81102</td>\n",
       "      <td>PM10 Total 0-10um STP</td>\n",
       "      <td>17020.0</td>\n",
       "      <td>Chico, CA</td>\n",
       "      <td>6</td>\n",
       "      <td>California</td>\n",
       "      <td>7</td>\n",
       "      <td>Butte</td>\n",
       "      <td>39.76168</td>\n",
       "      <td>-121.84047</td>\n",
       "    </tr>\n",
       "    <tr>\n",
       "      <th>2</th>\n",
       "      <td>01/03/2021</td>\n",
       "      <td>AQS</td>\n",
       "      <td>60070008</td>\n",
       "      <td>3</td>\n",
       "      <td>19</td>\n",
       "      <td>ug/m3 SC</td>\n",
       "      <td>18</td>\n",
       "      <td>Chico-East Avenue</td>\n",
       "      <td>1</td>\n",
       "      <td>100.0</td>\n",
       "      <td>81102</td>\n",
       "      <td>PM10 Total 0-10um STP</td>\n",
       "      <td>17020.0</td>\n",
       "      <td>Chico, CA</td>\n",
       "      <td>6</td>\n",
       "      <td>California</td>\n",
       "      <td>7</td>\n",
       "      <td>Butte</td>\n",
       "      <td>39.76168</td>\n",
       "      <td>-121.84047</td>\n",
       "    </tr>\n",
       "    <tr>\n",
       "      <th>3</th>\n",
       "      <td>01/04/2021</td>\n",
       "      <td>AQS</td>\n",
       "      <td>60070008</td>\n",
       "      <td>3</td>\n",
       "      <td>10</td>\n",
       "      <td>ug/m3 SC</td>\n",
       "      <td>9</td>\n",
       "      <td>Chico-East Avenue</td>\n",
       "      <td>1</td>\n",
       "      <td>100.0</td>\n",
       "      <td>81102</td>\n",
       "      <td>PM10 Total 0-10um STP</td>\n",
       "      <td>17020.0</td>\n",
       "      <td>Chico, CA</td>\n",
       "      <td>6</td>\n",
       "      <td>California</td>\n",
       "      <td>7</td>\n",
       "      <td>Butte</td>\n",
       "      <td>39.76168</td>\n",
       "      <td>-121.84047</td>\n",
       "    </tr>\n",
       "    <tr>\n",
       "      <th>4</th>\n",
       "      <td>01/05/2021</td>\n",
       "      <td>AQS</td>\n",
       "      <td>60070008</td>\n",
       "      <td>3</td>\n",
       "      <td>12</td>\n",
       "      <td>ug/m3 SC</td>\n",
       "      <td>11</td>\n",
       "      <td>Chico-East Avenue</td>\n",
       "      <td>1</td>\n",
       "      <td>100.0</td>\n",
       "      <td>81102</td>\n",
       "      <td>PM10 Total 0-10um STP</td>\n",
       "      <td>17020.0</td>\n",
       "      <td>Chico, CA</td>\n",
       "      <td>6</td>\n",
       "      <td>California</td>\n",
       "      <td>7</td>\n",
       "      <td>Butte</td>\n",
       "      <td>39.76168</td>\n",
       "      <td>-121.84047</td>\n",
       "    </tr>\n",
       "  </tbody>\n",
       "</table>\n",
       "</div>"
      ],
      "text/plain": [
       "         Date Source   Site ID  POC  Daily Mean PM10 Concentration     UNITS  \\\n",
       "0  01/01/2021    AQS  60070008    3                             24  ug/m3 SC   \n",
       "1  01/02/2021    AQS  60070008    3                             21  ug/m3 SC   \n",
       "2  01/03/2021    AQS  60070008    3                             19  ug/m3 SC   \n",
       "3  01/04/2021    AQS  60070008    3                             10  ug/m3 SC   \n",
       "4  01/05/2021    AQS  60070008    3                             12  ug/m3 SC   \n",
       "\n",
       "   DAILY_AQI_VALUE          Site Name  DAILY_OBS_COUNT  PERCENT_COMPLETE  \\\n",
       "0               22  Chico-East Avenue                1             100.0   \n",
       "1               19  Chico-East Avenue                1             100.0   \n",
       "2               18  Chico-East Avenue                1             100.0   \n",
       "3                9  Chico-East Avenue                1             100.0   \n",
       "4               11  Chico-East Avenue                1             100.0   \n",
       "\n",
       "   AQS_PARAMETER_CODE     AQS_PARAMETER_DESC  CBSA_CODE  CBSA_NAME  \\\n",
       "0               81102  PM10 Total 0-10um STP    17020.0  Chico, CA   \n",
       "1               81102  PM10 Total 0-10um STP    17020.0  Chico, CA   \n",
       "2               81102  PM10 Total 0-10um STP    17020.0  Chico, CA   \n",
       "3               81102  PM10 Total 0-10um STP    17020.0  Chico, CA   \n",
       "4               81102  PM10 Total 0-10um STP    17020.0  Chico, CA   \n",
       "\n",
       "   STATE_CODE       STATE  COUNTY_CODE COUNTY  SITE_LATITUDE  SITE_LONGITUDE  \n",
       "0           6  California            7  Butte       39.76168      -121.84047  \n",
       "1           6  California            7  Butte       39.76168      -121.84047  \n",
       "2           6  California            7  Butte       39.76168      -121.84047  \n",
       "3           6  California            7  Butte       39.76168      -121.84047  \n",
       "4           6  California            7  Butte       39.76168      -121.84047  "
      ]
     },
     "execution_count": 3,
     "metadata": {},
     "output_type": "execute_result"
    }
   ],
   "source": [
    "data.head()\n"
   ]
  },
  {
   "cell_type": "code",
   "execution_count": null,
   "metadata": {},
   "outputs": [],
   "source": [
    "data.drop(columns=[])"
   ]
  },
  {
   "cell_type": "code",
   "execution_count": null,
   "metadata": {},
   "outputs": [],
   "source": []
  },
  {
   "cell_type": "code",
   "execution_count": null,
   "metadata": {},
   "outputs": [],
   "source": []
  },
  {
   "cell_type": "code",
   "execution_count": null,
   "metadata": {},
   "outputs": [],
   "source": []
  },
  {
   "cell_type": "code",
   "execution_count": null,
   "metadata": {},
   "outputs": [],
   "source": []
  },
  {
   "cell_type": "code",
   "execution_count": null,
   "metadata": {},
   "outputs": [],
   "source": []
  },
  {
   "cell_type": "code",
   "execution_count": null,
   "metadata": {},
   "outputs": [],
   "source": []
  },
  {
   "cell_type": "code",
   "execution_count": null,
   "metadata": {},
   "outputs": [],
   "source": []
  },
  {
   "cell_type": "code",
   "execution_count": null,
   "metadata": {},
   "outputs": [],
   "source": []
  },
  {
   "cell_type": "code",
   "execution_count": null,
   "metadata": {},
   "outputs": [],
   "source": []
  },
  {
   "cell_type": "code",
   "execution_count": null,
   "metadata": {},
   "outputs": [],
   "source": []
  },
  {
   "cell_type": "code",
   "execution_count": null,
   "metadata": {},
   "outputs": [],
   "source": []
  },
  {
   "cell_type": "code",
   "execution_count": null,
   "metadata": {},
   "outputs": [],
   "source": []
  },
  {
   "cell_type": "code",
   "execution_count": null,
   "metadata": {},
   "outputs": [],
   "source": []
  },
  {
   "cell_type": "code",
   "execution_count": null,
   "metadata": {},
   "outputs": [],
   "source": []
  },
  {
   "cell_type": "code",
   "execution_count": null,
   "metadata": {},
   "outputs": [],
   "source": []
  },
  {
   "cell_type": "code",
   "execution_count": null,
   "metadata": {},
   "outputs": [],
   "source": []
  },
  {
   "cell_type": "code",
   "execution_count": null,
   "metadata": {},
   "outputs": [],
   "source": []
  },
  {
   "cell_type": "code",
   "execution_count": null,
   "metadata": {},
   "outputs": [],
   "source": []
  },
  {
   "cell_type": "code",
   "execution_count": null,
   "metadata": {},
   "outputs": [],
   "source": []
  },
  {
   "cell_type": "code",
   "execution_count": null,
   "metadata": {},
   "outputs": [],
   "source": []
  },
  {
   "cell_type": "code",
   "execution_count": null,
   "metadata": {},
   "outputs": [],
   "source": []
  },
  {
   "cell_type": "code",
   "execution_count": null,
   "metadata": {},
   "outputs": [],
   "source": []
  },
  {
   "cell_type": "code",
   "execution_count": null,
   "metadata": {},
   "outputs": [],
   "source": []
  },
  {
   "cell_type": "code",
   "execution_count": null,
   "metadata": {},
   "outputs": [],
   "source": []
  },
  {
   "cell_type": "code",
   "execution_count": null,
   "metadata": {},
   "outputs": [],
   "source": []
  },
  {
   "cell_type": "code",
   "execution_count": null,
   "metadata": {},
   "outputs": [],
   "source": []
  },
  {
   "cell_type": "code",
   "execution_count": null,
   "metadata": {},
   "outputs": [],
   "source": []
  },
  {
   "cell_type": "code",
   "execution_count": null,
   "metadata": {},
   "outputs": [],
   "source": []
  },
  {
   "cell_type": "code",
   "execution_count": null,
   "metadata": {},
   "outputs": [],
   "source": []
  }
 ],
 "metadata": {
  "kernelspec": {
   "display_name": "homl3",
   "language": "python",
   "name": "python3"
  },
  "language_info": {
   "codemirror_mode": {
    "name": "ipython",
    "version": 3
   },
   "file_extension": ".py",
   "mimetype": "text/x-python",
   "name": "python",
   "nbconvert_exporter": "python",
   "pygments_lexer": "ipython3",
   "version": "3.10.8"
  },
  "orig_nbformat": 4,
  "vscode": {
   "interpreter": {
    "hash": "cb11495483f8bc9329e70cd93d4d6000fab5e0ef74cd85abb85772776aaa6b42"
   }
  }
 },
 "nbformat": 4,
 "nbformat_minor": 2
}
