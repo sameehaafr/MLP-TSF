{
  "nbformat": 4,
  "nbformat_minor": 0,
  "metadata": {
    "colab": {
      "provenance": [],
      "include_colab_link": true
    },
    "kernelspec": {
      "name": "python3",
      "display_name": "Python 3"
    },
    "language_info": {
      "name": "python"
    }
  },
  "cells": [
    {
      "cell_type": "markdown",
      "metadata": {
        "id": "view-in-github",
        "colab_type": "text"
      },
      "source": [
        "<a href=\"https://colab.research.google.com/github/sameehaafr/sigai-tsf/blob/master/Copy_of_sig_lstm.ipynb\" target=\"_parent\"><img src=\"https://colab.research.google.com/assets/colab-badge.svg\" alt=\"Open In Colab\"/></a>"
      ]
    },
    {
      "cell_type": "markdown",
      "source": [
        "File Mounting"
      ],
      "metadata": {
        "id": "l0s_ZpRk4ZQv"
      }
    },
    {
      "cell_type": "code",
      "source": [
        "from google.colab import drive\n",
        "drive.mount('/content/gdrive')"
      ],
      "metadata": {
        "id": "bzvTphan3b59",
        "colab": {
          "base_uri": "https://localhost:8080/"
        },
        "outputId": "8dc7c08b-26bb-4c40-9d79-fdaf543f007f"
      },
      "execution_count": null,
      "outputs": [
        {
          "output_type": "stream",
          "name": "stdout",
          "text": [
            "Mounted at /content/gdrive\n"
          ]
        }
      ]
    },
    {
      "cell_type": "markdown",
      "source": [
        "Libraries"
      ],
      "metadata": {
        "id": "hd_5iY4J3EL-"
      }
    },
    {
      "cell_type": "code",
      "execution_count": null,
      "metadata": {
        "id": "RsNUvrqujU5L"
      },
      "outputs": [],
      "source": [
        "import pandas as pd\n",
        "from sklearn.model_selection import train_test_split\n",
        "from keras.layers import LSTM, Dense\n",
        "from keras.models import Sequential\n",
        "import matplotlib.pyplot as plt\n",
        "import numpy as np"
      ]
    },
    {
      "cell_type": "markdown",
      "source": [
        "Data Preprocessing"
      ],
      "metadata": {
        "id": "8wQI0ysuo-3i"
      }
    },
    {
      "cell_type": "code",
      "source": [
        "la_2020 = pd.read_csv('/content/gdrive/MyDrive/SIGAI TSF/DATA/LA_pm10_2020.csv')\n",
        "la_2021 = pd.read_csv('/content/gdrive/MyDrive/SIGAI TSF/DATA/LA_pm10_2021.csv')\n",
        "la_2022 = pd.read_csv('/content/gdrive/MyDrive/SIGAI TSF/DATA/LA_pm10_2022.csv')"
      ],
      "metadata": {
        "id": "8ELjgahDo-f2"
      },
      "execution_count": null,
      "outputs": []
    },
    {
      "cell_type": "code",
      "source": [
        "la_2022"
      ],
      "metadata": {
        "colab": {
          "base_uri": "https://localhost:8080/",
          "height": 1000
        },
        "id": "RNUPfkNLlC0l",
        "outputId": "b8416c6d-ed6e-40a8-af84-bf79f150233f"
      },
      "execution_count": null,
      "outputs": [
        {
          "output_type": "execute_result",
          "data": {
            "text/plain": [
              "            Date Source   Site ID  POC  Daily Mean PM10 Concentration  \\\n",
              "0     01/05/2022    AQS  60370002    2                             28   \n",
              "1     01/11/2022    AQS  60370002    2                             18   \n",
              "2     01/17/2022    AQS  60370002    2                             19   \n",
              "3     01/27/2022    AQS  60370002    2                             16   \n",
              "4     01/29/2022    AQS  60370002    2                             15   \n",
              "...          ...    ...       ...  ...                            ...   \n",
              "1493  09/26/2022    AQS  60379033    2                             28   \n",
              "1494  09/27/2022    AQS  60379033    2                             30   \n",
              "1495  09/28/2022    AQS  60379033    2                             35   \n",
              "1496  09/29/2022    AQS  60379033    2                             37   \n",
              "1497  09/30/2022    AQS  60379033    2                             28   \n",
              "\n",
              "         UNITS  DAILY_AQI_VALUE                  Site Name  DAILY_OBS_COUNT  \\\n",
              "0     ug/m3 SC               26                      Azusa                1   \n",
              "1     ug/m3 SC               17                      Azusa                1   \n",
              "2     ug/m3 SC               18                      Azusa                1   \n",
              "3     ug/m3 SC               15                      Azusa                1   \n",
              "4     ug/m3 SC               14                      Azusa                1   \n",
              "...        ...              ...                        ...              ...   \n",
              "1493  ug/m3 SC               26  Lancaster-Division Street                1   \n",
              "1494  ug/m3 SC               28  Lancaster-Division Street                1   \n",
              "1495  ug/m3 SC               32  Lancaster-Division Street                1   \n",
              "1496  ug/m3 SC               34  Lancaster-Division Street                1   \n",
              "1497  ug/m3 SC               26  Lancaster-Division Street                1   \n",
              "\n",
              "      PERCENT_COMPLETE  AQS_PARAMETER_CODE     AQS_PARAMETER_DESC  CBSA_CODE  \\\n",
              "0                100.0               81102  PM10 Total 0-10um STP      31080   \n",
              "1                100.0               81102  PM10 Total 0-10um STP      31080   \n",
              "2                100.0               81102  PM10 Total 0-10um STP      31080   \n",
              "3                100.0               81102  PM10 Total 0-10um STP      31080   \n",
              "4                100.0               81102  PM10 Total 0-10um STP      31080   \n",
              "...                ...                 ...                    ...        ...   \n",
              "1493             100.0               81102  PM10 Total 0-10um STP      31080   \n",
              "1494             100.0               81102  PM10 Total 0-10um STP      31080   \n",
              "1495             100.0               81102  PM10 Total 0-10um STP      31080   \n",
              "1496             100.0               81102  PM10 Total 0-10um STP      31080   \n",
              "1497             100.0               81102  PM10 Total 0-10um STP      31080   \n",
              "\n",
              "                               CBSA_NAME  STATE_CODE       STATE  COUNTY_CODE  \\\n",
              "0     Los Angeles-Long Beach-Anaheim, CA           6  California           37   \n",
              "1     Los Angeles-Long Beach-Anaheim, CA           6  California           37   \n",
              "2     Los Angeles-Long Beach-Anaheim, CA           6  California           37   \n",
              "3     Los Angeles-Long Beach-Anaheim, CA           6  California           37   \n",
              "4     Los Angeles-Long Beach-Anaheim, CA           6  California           37   \n",
              "...                                  ...         ...         ...          ...   \n",
              "1493  Los Angeles-Long Beach-Anaheim, CA           6  California           37   \n",
              "1494  Los Angeles-Long Beach-Anaheim, CA           6  California           37   \n",
              "1495  Los Angeles-Long Beach-Anaheim, CA           6  California           37   \n",
              "1496  Los Angeles-Long Beach-Anaheim, CA           6  California           37   \n",
              "1497  Los Angeles-Long Beach-Anaheim, CA           6  California           37   \n",
              "\n",
              "           COUNTY  SITE_LATITUDE  SITE_LONGITUDE  \n",
              "0     Los Angeles      34.136500     -117.923910  \n",
              "1     Los Angeles      34.136500     -117.923910  \n",
              "2     Los Angeles      34.136500     -117.923910  \n",
              "3     Los Angeles      34.136500     -117.923910  \n",
              "4     Los Angeles      34.136500     -117.923910  \n",
              "...           ...            ...             ...  \n",
              "1493  Los Angeles      34.669739     -118.130511  \n",
              "1494  Los Angeles      34.669739     -118.130511  \n",
              "1495  Los Angeles      34.669739     -118.130511  \n",
              "1496  Los Angeles      34.669739     -118.130511  \n",
              "1497  Los Angeles      34.669739     -118.130511  \n",
              "\n",
              "[1498 rows x 20 columns]"
            ],
            "text/html": [
              "\n",
              "  <div id=\"df-8b092ba4-5777-4858-893f-e56d5c4a9f33\">\n",
              "    <div class=\"colab-df-container\">\n",
              "      <div>\n",
              "<style scoped>\n",
              "    .dataframe tbody tr th:only-of-type {\n",
              "        vertical-align: middle;\n",
              "    }\n",
              "\n",
              "    .dataframe tbody tr th {\n",
              "        vertical-align: top;\n",
              "    }\n",
              "\n",
              "    .dataframe thead th {\n",
              "        text-align: right;\n",
              "    }\n",
              "</style>\n",
              "<table border=\"1\" class=\"dataframe\">\n",
              "  <thead>\n",
              "    <tr style=\"text-align: right;\">\n",
              "      <th></th>\n",
              "      <th>Date</th>\n",
              "      <th>Source</th>\n",
              "      <th>Site ID</th>\n",
              "      <th>POC</th>\n",
              "      <th>Daily Mean PM10 Concentration</th>\n",
              "      <th>UNITS</th>\n",
              "      <th>DAILY_AQI_VALUE</th>\n",
              "      <th>Site Name</th>\n",
              "      <th>DAILY_OBS_COUNT</th>\n",
              "      <th>PERCENT_COMPLETE</th>\n",
              "      <th>AQS_PARAMETER_CODE</th>\n",
              "      <th>AQS_PARAMETER_DESC</th>\n",
              "      <th>CBSA_CODE</th>\n",
              "      <th>CBSA_NAME</th>\n",
              "      <th>STATE_CODE</th>\n",
              "      <th>STATE</th>\n",
              "      <th>COUNTY_CODE</th>\n",
              "      <th>COUNTY</th>\n",
              "      <th>SITE_LATITUDE</th>\n",
              "      <th>SITE_LONGITUDE</th>\n",
              "    </tr>\n",
              "  </thead>\n",
              "  <tbody>\n",
              "    <tr>\n",
              "      <th>0</th>\n",
              "      <td>01/05/2022</td>\n",
              "      <td>AQS</td>\n",
              "      <td>60370002</td>\n",
              "      <td>2</td>\n",
              "      <td>28</td>\n",
              "      <td>ug/m3 SC</td>\n",
              "      <td>26</td>\n",
              "      <td>Azusa</td>\n",
              "      <td>1</td>\n",
              "      <td>100.0</td>\n",
              "      <td>81102</td>\n",
              "      <td>PM10 Total 0-10um STP</td>\n",
              "      <td>31080</td>\n",
              "      <td>Los Angeles-Long Beach-Anaheim, CA</td>\n",
              "      <td>6</td>\n",
              "      <td>California</td>\n",
              "      <td>37</td>\n",
              "      <td>Los Angeles</td>\n",
              "      <td>34.136500</td>\n",
              "      <td>-117.923910</td>\n",
              "    </tr>\n",
              "    <tr>\n",
              "      <th>1</th>\n",
              "      <td>01/11/2022</td>\n",
              "      <td>AQS</td>\n",
              "      <td>60370002</td>\n",
              "      <td>2</td>\n",
              "      <td>18</td>\n",
              "      <td>ug/m3 SC</td>\n",
              "      <td>17</td>\n",
              "      <td>Azusa</td>\n",
              "      <td>1</td>\n",
              "      <td>100.0</td>\n",
              "      <td>81102</td>\n",
              "      <td>PM10 Total 0-10um STP</td>\n",
              "      <td>31080</td>\n",
              "      <td>Los Angeles-Long Beach-Anaheim, CA</td>\n",
              "      <td>6</td>\n",
              "      <td>California</td>\n",
              "      <td>37</td>\n",
              "      <td>Los Angeles</td>\n",
              "      <td>34.136500</td>\n",
              "      <td>-117.923910</td>\n",
              "    </tr>\n",
              "    <tr>\n",
              "      <th>2</th>\n",
              "      <td>01/17/2022</td>\n",
              "      <td>AQS</td>\n",
              "      <td>60370002</td>\n",
              "      <td>2</td>\n",
              "      <td>19</td>\n",
              "      <td>ug/m3 SC</td>\n",
              "      <td>18</td>\n",
              "      <td>Azusa</td>\n",
              "      <td>1</td>\n",
              "      <td>100.0</td>\n",
              "      <td>81102</td>\n",
              "      <td>PM10 Total 0-10um STP</td>\n",
              "      <td>31080</td>\n",
              "      <td>Los Angeles-Long Beach-Anaheim, CA</td>\n",
              "      <td>6</td>\n",
              "      <td>California</td>\n",
              "      <td>37</td>\n",
              "      <td>Los Angeles</td>\n",
              "      <td>34.136500</td>\n",
              "      <td>-117.923910</td>\n",
              "    </tr>\n",
              "    <tr>\n",
              "      <th>3</th>\n",
              "      <td>01/27/2022</td>\n",
              "      <td>AQS</td>\n",
              "      <td>60370002</td>\n",
              "      <td>2</td>\n",
              "      <td>16</td>\n",
              "      <td>ug/m3 SC</td>\n",
              "      <td>15</td>\n",
              "      <td>Azusa</td>\n",
              "      <td>1</td>\n",
              "      <td>100.0</td>\n",
              "      <td>81102</td>\n",
              "      <td>PM10 Total 0-10um STP</td>\n",
              "      <td>31080</td>\n",
              "      <td>Los Angeles-Long Beach-Anaheim, CA</td>\n",
              "      <td>6</td>\n",
              "      <td>California</td>\n",
              "      <td>37</td>\n",
              "      <td>Los Angeles</td>\n",
              "      <td>34.136500</td>\n",
              "      <td>-117.923910</td>\n",
              "    </tr>\n",
              "    <tr>\n",
              "      <th>4</th>\n",
              "      <td>01/29/2022</td>\n",
              "      <td>AQS</td>\n",
              "      <td>60370002</td>\n",
              "      <td>2</td>\n",
              "      <td>15</td>\n",
              "      <td>ug/m3 SC</td>\n",
              "      <td>14</td>\n",
              "      <td>Azusa</td>\n",
              "      <td>1</td>\n",
              "      <td>100.0</td>\n",
              "      <td>81102</td>\n",
              "      <td>PM10 Total 0-10um STP</td>\n",
              "      <td>31080</td>\n",
              "      <td>Los Angeles-Long Beach-Anaheim, CA</td>\n",
              "      <td>6</td>\n",
              "      <td>California</td>\n",
              "      <td>37</td>\n",
              "      <td>Los Angeles</td>\n",
              "      <td>34.136500</td>\n",
              "      <td>-117.923910</td>\n",
              "    </tr>\n",
              "    <tr>\n",
              "      <th>...</th>\n",
              "      <td>...</td>\n",
              "      <td>...</td>\n",
              "      <td>...</td>\n",
              "      <td>...</td>\n",
              "      <td>...</td>\n",
              "      <td>...</td>\n",
              "      <td>...</td>\n",
              "      <td>...</td>\n",
              "      <td>...</td>\n",
              "      <td>...</td>\n",
              "      <td>...</td>\n",
              "      <td>...</td>\n",
              "      <td>...</td>\n",
              "      <td>...</td>\n",
              "      <td>...</td>\n",
              "      <td>...</td>\n",
              "      <td>...</td>\n",
              "      <td>...</td>\n",
              "      <td>...</td>\n",
              "      <td>...</td>\n",
              "    </tr>\n",
              "    <tr>\n",
              "      <th>1493</th>\n",
              "      <td>09/26/2022</td>\n",
              "      <td>AQS</td>\n",
              "      <td>60379033</td>\n",
              "      <td>2</td>\n",
              "      <td>28</td>\n",
              "      <td>ug/m3 SC</td>\n",
              "      <td>26</td>\n",
              "      <td>Lancaster-Division Street</td>\n",
              "      <td>1</td>\n",
              "      <td>100.0</td>\n",
              "      <td>81102</td>\n",
              "      <td>PM10 Total 0-10um STP</td>\n",
              "      <td>31080</td>\n",
              "      <td>Los Angeles-Long Beach-Anaheim, CA</td>\n",
              "      <td>6</td>\n",
              "      <td>California</td>\n",
              "      <td>37</td>\n",
              "      <td>Los Angeles</td>\n",
              "      <td>34.669739</td>\n",
              "      <td>-118.130511</td>\n",
              "    </tr>\n",
              "    <tr>\n",
              "      <th>1494</th>\n",
              "      <td>09/27/2022</td>\n",
              "      <td>AQS</td>\n",
              "      <td>60379033</td>\n",
              "      <td>2</td>\n",
              "      <td>30</td>\n",
              "      <td>ug/m3 SC</td>\n",
              "      <td>28</td>\n",
              "      <td>Lancaster-Division Street</td>\n",
              "      <td>1</td>\n",
              "      <td>100.0</td>\n",
              "      <td>81102</td>\n",
              "      <td>PM10 Total 0-10um STP</td>\n",
              "      <td>31080</td>\n",
              "      <td>Los Angeles-Long Beach-Anaheim, CA</td>\n",
              "      <td>6</td>\n",
              "      <td>California</td>\n",
              "      <td>37</td>\n",
              "      <td>Los Angeles</td>\n",
              "      <td>34.669739</td>\n",
              "      <td>-118.130511</td>\n",
              "    </tr>\n",
              "    <tr>\n",
              "      <th>1495</th>\n",
              "      <td>09/28/2022</td>\n",
              "      <td>AQS</td>\n",
              "      <td>60379033</td>\n",
              "      <td>2</td>\n",
              "      <td>35</td>\n",
              "      <td>ug/m3 SC</td>\n",
              "      <td>32</td>\n",
              "      <td>Lancaster-Division Street</td>\n",
              "      <td>1</td>\n",
              "      <td>100.0</td>\n",
              "      <td>81102</td>\n",
              "      <td>PM10 Total 0-10um STP</td>\n",
              "      <td>31080</td>\n",
              "      <td>Los Angeles-Long Beach-Anaheim, CA</td>\n",
              "      <td>6</td>\n",
              "      <td>California</td>\n",
              "      <td>37</td>\n",
              "      <td>Los Angeles</td>\n",
              "      <td>34.669739</td>\n",
              "      <td>-118.130511</td>\n",
              "    </tr>\n",
              "    <tr>\n",
              "      <th>1496</th>\n",
              "      <td>09/29/2022</td>\n",
              "      <td>AQS</td>\n",
              "      <td>60379033</td>\n",
              "      <td>2</td>\n",
              "      <td>37</td>\n",
              "      <td>ug/m3 SC</td>\n",
              "      <td>34</td>\n",
              "      <td>Lancaster-Division Street</td>\n",
              "      <td>1</td>\n",
              "      <td>100.0</td>\n",
              "      <td>81102</td>\n",
              "      <td>PM10 Total 0-10um STP</td>\n",
              "      <td>31080</td>\n",
              "      <td>Los Angeles-Long Beach-Anaheim, CA</td>\n",
              "      <td>6</td>\n",
              "      <td>California</td>\n",
              "      <td>37</td>\n",
              "      <td>Los Angeles</td>\n",
              "      <td>34.669739</td>\n",
              "      <td>-118.130511</td>\n",
              "    </tr>\n",
              "    <tr>\n",
              "      <th>1497</th>\n",
              "      <td>09/30/2022</td>\n",
              "      <td>AQS</td>\n",
              "      <td>60379033</td>\n",
              "      <td>2</td>\n",
              "      <td>28</td>\n",
              "      <td>ug/m3 SC</td>\n",
              "      <td>26</td>\n",
              "      <td>Lancaster-Division Street</td>\n",
              "      <td>1</td>\n",
              "      <td>100.0</td>\n",
              "      <td>81102</td>\n",
              "      <td>PM10 Total 0-10um STP</td>\n",
              "      <td>31080</td>\n",
              "      <td>Los Angeles-Long Beach-Anaheim, CA</td>\n",
              "      <td>6</td>\n",
              "      <td>California</td>\n",
              "      <td>37</td>\n",
              "      <td>Los Angeles</td>\n",
              "      <td>34.669739</td>\n",
              "      <td>-118.130511</td>\n",
              "    </tr>\n",
              "  </tbody>\n",
              "</table>\n",
              "<p>1498 rows × 20 columns</p>\n",
              "</div>\n",
              "      <button class=\"colab-df-convert\" onclick=\"convertToInteractive('df-8b092ba4-5777-4858-893f-e56d5c4a9f33')\"\n",
              "              title=\"Convert this dataframe to an interactive table.\"\n",
              "              style=\"display:none;\">\n",
              "        \n",
              "  <svg xmlns=\"http://www.w3.org/2000/svg\" height=\"24px\"viewBox=\"0 0 24 24\"\n",
              "       width=\"24px\">\n",
              "    <path d=\"M0 0h24v24H0V0z\" fill=\"none\"/>\n",
              "    <path d=\"M18.56 5.44l.94 2.06.94-2.06 2.06-.94-2.06-.94-.94-2.06-.94 2.06-2.06.94zm-11 1L8.5 8.5l.94-2.06 2.06-.94-2.06-.94L8.5 2.5l-.94 2.06-2.06.94zm10 10l.94 2.06.94-2.06 2.06-.94-2.06-.94-.94-2.06-.94 2.06-2.06.94z\"/><path d=\"M17.41 7.96l-1.37-1.37c-.4-.4-.92-.59-1.43-.59-.52 0-1.04.2-1.43.59L10.3 9.45l-7.72 7.72c-.78.78-.78 2.05 0 2.83L4 21.41c.39.39.9.59 1.41.59.51 0 1.02-.2 1.41-.59l7.78-7.78 2.81-2.81c.8-.78.8-2.07 0-2.86zM5.41 20L4 18.59l7.72-7.72 1.47 1.35L5.41 20z\"/>\n",
              "  </svg>\n",
              "      </button>\n",
              "      \n",
              "  <style>\n",
              "    .colab-df-container {\n",
              "      display:flex;\n",
              "      flex-wrap:wrap;\n",
              "      gap: 12px;\n",
              "    }\n",
              "\n",
              "    .colab-df-convert {\n",
              "      background-color: #E8F0FE;\n",
              "      border: none;\n",
              "      border-radius: 50%;\n",
              "      cursor: pointer;\n",
              "      display: none;\n",
              "      fill: #1967D2;\n",
              "      height: 32px;\n",
              "      padding: 0 0 0 0;\n",
              "      width: 32px;\n",
              "    }\n",
              "\n",
              "    .colab-df-convert:hover {\n",
              "      background-color: #E2EBFA;\n",
              "      box-shadow: 0px 1px 2px rgba(60, 64, 67, 0.3), 0px 1px 3px 1px rgba(60, 64, 67, 0.15);\n",
              "      fill: #174EA6;\n",
              "    }\n",
              "\n",
              "    [theme=dark] .colab-df-convert {\n",
              "      background-color: #3B4455;\n",
              "      fill: #D2E3FC;\n",
              "    }\n",
              "\n",
              "    [theme=dark] .colab-df-convert:hover {\n",
              "      background-color: #434B5C;\n",
              "      box-shadow: 0px 1px 3px 1px rgba(0, 0, 0, 0.15);\n",
              "      filter: drop-shadow(0px 1px 2px rgba(0, 0, 0, 0.3));\n",
              "      fill: #FFFFFF;\n",
              "    }\n",
              "  </style>\n",
              "\n",
              "      <script>\n",
              "        const buttonEl =\n",
              "          document.querySelector('#df-8b092ba4-5777-4858-893f-e56d5c4a9f33 button.colab-df-convert');\n",
              "        buttonEl.style.display =\n",
              "          google.colab.kernel.accessAllowed ? 'block' : 'none';\n",
              "\n",
              "        async function convertToInteractive(key) {\n",
              "          const element = document.querySelector('#df-8b092ba4-5777-4858-893f-e56d5c4a9f33');\n",
              "          const dataTable =\n",
              "            await google.colab.kernel.invokeFunction('convertToInteractive',\n",
              "                                                     [key], {});\n",
              "          if (!dataTable) return;\n",
              "\n",
              "          const docLinkHtml = 'Like what you see? Visit the ' +\n",
              "            '<a target=\"_blank\" href=https://colab.research.google.com/notebooks/data_table.ipynb>data table notebook</a>'\n",
              "            + ' to learn more about interactive tables.';\n",
              "          element.innerHTML = '';\n",
              "          dataTable['output_type'] = 'display_data';\n",
              "          await google.colab.output.renderOutput(dataTable, element);\n",
              "          const docLink = document.createElement('div');\n",
              "          docLink.innerHTML = docLinkHtml;\n",
              "          element.appendChild(docLink);\n",
              "        }\n",
              "      </script>\n",
              "    </div>\n",
              "  </div>\n",
              "  "
            ]
          },
          "metadata": {},
          "execution_count": 4
        }
      ]
    },
    {
      "cell_type": "markdown",
      "source": [
        "We're focusing on building a model that uses previous values of a unit to predict that unit (PM10).\n",
        "\n",
        "The columns that matter here are \"Date\" and \"Daily Mean PM10 Concentration\".\n",
        "\n",
        "The training data can be 2020 and 2021 values, and we can use 2022 as validation.\n"
      ],
      "metadata": {
        "id": "2kOSKDNDpe5L"
      }
    },
    {
      "cell_type": "code",
      "source": [
        "# subsetting\n",
        "la_2020 = la_2020[['Date', 'Daily Mean PM10 Concentration']]\n",
        "la_2021 = la_2021[['Date', 'Daily Mean PM10 Concentration']]\n",
        "la_2022 = la_2022[['Date', 'Daily Mean PM10 Concentration']]\n",
        "print(len(la_2020)+len(la_2021)+len(la_2022))"
      ],
      "metadata": {
        "id": "DTdal-hOqgyi",
        "colab": {
          "base_uri": "https://localhost:8080/"
        },
        "outputId": "8d899d80-5f5a-4218-997f-953916ad1742"
      },
      "execution_count": null,
      "outputs": [
        {
          "output_type": "stream",
          "name": "stdout",
          "text": [
            "3427\n"
          ]
        }
      ]
    },
    {
      "cell_type": "code",
      "source": [
        "# converting all to datetime\n",
        "la_2020['Date'] = pd.to_datetime(la_2020['Date'])\n",
        "la_2021['Date'] = pd.to_datetime(la_2021['Date'])\n",
        "la_2022['Date'] = pd.to_datetime(la_2022['Date'])"
      ],
      "metadata": {
        "id": "Ft5IwrxHieZB",
        "colab": {
          "base_uri": "https://localhost:8080/"
        },
        "outputId": "aa0fb2b2-d4bf-4aa6-f256-4bb1cc63afd6"
      },
      "execution_count": null,
      "outputs": [
        {
          "output_type": "stream",
          "name": "stderr",
          "text": [
            "<ipython-input-6-22adbb8af597>:2: SettingWithCopyWarning: \n",
            "A value is trying to be set on a copy of a slice from a DataFrame.\n",
            "Try using .loc[row_indexer,col_indexer] = value instead\n",
            "\n",
            "See the caveats in the documentation: https://pandas.pydata.org/pandas-docs/stable/user_guide/indexing.html#returning-a-view-versus-a-copy\n",
            "  la_2020['Date'] = pd.to_datetime(la_2020['Date'])\n",
            "<ipython-input-6-22adbb8af597>:3: SettingWithCopyWarning: \n",
            "A value is trying to be set on a copy of a slice from a DataFrame.\n",
            "Try using .loc[row_indexer,col_indexer] = value instead\n",
            "\n",
            "See the caveats in the documentation: https://pandas.pydata.org/pandas-docs/stable/user_guide/indexing.html#returning-a-view-versus-a-copy\n",
            "  la_2021['Date'] = pd.to_datetime(la_2021['Date'])\n",
            "<ipython-input-6-22adbb8af597>:4: SettingWithCopyWarning: \n",
            "A value is trying to be set on a copy of a slice from a DataFrame.\n",
            "Try using .loc[row_indexer,col_indexer] = value instead\n",
            "\n",
            "See the caveats in the documentation: https://pandas.pydata.org/pandas-docs/stable/user_guide/indexing.html#returning-a-view-versus-a-copy\n",
            "  la_2022['Date'] = pd.to_datetime(la_2022['Date'])\n"
          ]
        }
      ]
    },
    {
      "cell_type": "code",
      "source": [
        "# merging\n",
        "la_pm10 = pd.concat([la_2020, la_2021, la_2022])\n",
        "la_pm10.rename(columns = {'Daily Mean PM10 Concentration':'daily_pm10'}, inplace = True)\n",
        "print(len(la_pm10))"
      ],
      "metadata": {
        "id": "aHdQUCHU5omm",
        "colab": {
          "base_uri": "https://localhost:8080/"
        },
        "outputId": "485eb731-0bea-429e-f74a-64b77c8b98ed"
      },
      "execution_count": null,
      "outputs": [
        {
          "output_type": "stream",
          "name": "stdout",
          "text": [
            "3427\n"
          ]
        }
      ]
    },
    {
      "cell_type": "code",
      "source": [
        "# dropping null cols\n",
        "la_pm10 = la_pm10.dropna()\n",
        "\n",
        "# date to datetime\n",
        "#la_pm10['Date'] = pd.to_datetime(la_pm10['Date'])"
      ],
      "metadata": {
        "id": "1xf7_ZQT3Bu7"
      },
      "execution_count": null,
      "outputs": []
    },
    {
      "cell_type": "code",
      "source": [
        "range = la_pm10[(la_pm10['Date'] > '2021-09-01') & (la_pm10['Date'] <= '2022-01-01')]\n",
        "plt.rcParams[\"figure.figsize\"] = (20, 6)\n",
        "range.plot(x='Date', y='daily_pm10')\n",
        "plt.show()"
      ],
      "metadata": {
        "colab": {
          "base_uri": "https://localhost:8080/",
          "height": 383
        },
        "id": "AhLCbpjQMkzv",
        "outputId": "f78be011-5e6d-4c12-fff8-2d64f5168884"
      },
      "execution_count": null,
      "outputs": [
        {
          "output_type": "display_data",
          "data": {
            "text/plain": [
              "<Figure size 1440x432 with 1 Axes>"
            ],
            "image/png": "[encoded data removed]"
          },
          "metadata": {
            "needs_background": "light"
          }
        }
      ]
    },
    {
      "cell_type": "code",
      "source": [
        "# finding row with max pm10 value\n",
        "la_pm10.loc[(la_pm10['daily_pm10'] == max(la_pm10['daily_pm10']))]"
      ],
      "metadata": {
        "colab": {
          "base_uri": "https://localhost:8080/",
          "height": 81
        },
        "id": "JXM7lNImPD0S",
        "outputId": "7fda7adb-67a9-4aed-9c10-cdbfc7182e56"
      },
      "execution_count": null,
      "outputs": [
        {
          "output_type": "execute_result",
          "data": {
            "text/plain": [
              "          Date  daily_pm10\n",
              "906 2021-10-11         411"
            ],
            "text/html": [
              "\n",
              "  <div id=\"df-f5cd9681-5673-49ca-aa9f-71cc43aa092d\">\n",
              "    <div class=\"colab-df-container\">\n",
              "      <div>\n",
              "<style scoped>\n",
              "    .dataframe tbody tr th:only-of-type {\n",
              "        vertical-align: middle;\n",
              "    }\n",
              "\n",
              "    .dataframe tbody tr th {\n",
              "        vertical-align: top;\n",
              "    }\n",
              "\n",
              "    .dataframe thead th {\n",
              "        text-align: right;\n",
              "    }\n",
              "</style>\n",
              "<table border=\"1\" class=\"dataframe\">\n",
              "  <thead>\n",
              "    <tr style=\"text-align: right;\">\n",
              "      <th></th>\n",
              "      <th>Date</th>\n",
              "      <th>daily_pm10</th>\n",
              "    </tr>\n",
              "  </thead>\n",
              "  <tbody>\n",
              "    <tr>\n",
              "      <th>906</th>\n",
              "      <td>2021-10-11</td>\n",
              "      <td>411</td>\n",
              "    </tr>\n",
              "  </tbody>\n",
              "</table>\n",
              "</div>\n",
              "      <button class=\"colab-df-convert\" onclick=\"convertToInteractive('df-f5cd9681-5673-49ca-aa9f-71cc43aa092d')\"\n",
              "              title=\"Convert this dataframe to an interactive table.\"\n",
              "              style=\"display:none;\">\n",
              "        \n",
              "  <svg xmlns=\"http://www.w3.org/2000/svg\" height=\"24px\"viewBox=\"0 0 24 24\"\n",
              "       width=\"24px\">\n",
              "    <path d=\"M0 0h24v24H0V0z\" fill=\"none\"/>\n",
              "    <path d=\"M18.56 5.44l.94 2.06.94-2.06 2.06-.94-2.06-.94-.94-2.06-.94 2.06-2.06.94zm-11 1L8.5 8.5l.94-2.06 2.06-.94-2.06-.94L8.5 2.5l-.94 2.06-2.06.94zm10 10l.94 2.06.94-2.06 2.06-.94-2.06-.94-.94-2.06-.94 2.06-2.06.94z\"/><path d=\"M17.41 7.96l-1.37-1.37c-.4-.4-.92-.59-1.43-.59-.52 0-1.04.2-1.43.59L10.3 9.45l-7.72 7.72c-.78.78-.78 2.05 0 2.83L4 21.41c.39.39.9.59 1.41.59.51 0 1.02-.2 1.41-.59l7.78-7.78 2.81-2.81c.8-.78.8-2.07 0-2.86zM5.41 20L4 18.59l7.72-7.72 1.47 1.35L5.41 20z\"/>\n",
              "  </svg>\n",
              "      </button>\n",
              "      \n",
              "  <style>\n",
              "    .colab-df-container {\n",
              "      display:flex;\n",
              "      flex-wrap:wrap;\n",
              "      gap: 12px;\n",
              "    }\n",
              "\n",
              "    .colab-df-convert {\n",
              "      background-color: #E8F0FE;\n",
              "      border: none;\n",
              "      border-radius: 50%;\n",
              "      cursor: pointer;\n",
              "      display: none;\n",
              "      fill: #1967D2;\n",
              "      height: 32px;\n",
              "      padding: 0 0 0 0;\n",
              "      width: 32px;\n",
              "    }\n",
              "\n",
              "    .colab-df-convert:hover {\n",
              "      background-color: #E2EBFA;\n",
              "      box-shadow: 0px 1px 2px rgba(60, 64, 67, 0.3), 0px 1px 3px 1px rgba(60, 64, 67, 0.15);\n",
              "      fill: #174EA6;\n",
              "    }\n",
              "\n",
              "    [theme=dark] .colab-df-convert {\n",
              "      background-color: #3B4455;\n",
              "      fill: #D2E3FC;\n",
              "    }\n",
              "\n",
              "    [theme=dark] .colab-df-convert:hover {\n",
              "      background-color: #434B5C;\n",
              "      box-shadow: 0px 1px 3px 1px rgba(0, 0, 0, 0.15);\n",
              "      filter: drop-shadow(0px 1px 2px rgba(0, 0, 0, 0.3));\n",
              "      fill: #FFFFFF;\n",
              "    }\n",
              "  </style>\n",
              "\n",
              "      <script>\n",
              "        const buttonEl =\n",
              "          document.querySelector('#df-f5cd9681-5673-49ca-aa9f-71cc43aa092d button.colab-df-convert');\n",
              "        buttonEl.style.display =\n",
              "          google.colab.kernel.accessAllowed ? 'block' : 'none';\n",
              "\n",
              "        async function convertToInteractive(key) {\n",
              "          const element = document.querySelector('#df-f5cd9681-5673-49ca-aa9f-71cc43aa092d');\n",
              "          const dataTable =\n",
              "            await google.colab.kernel.invokeFunction('convertToInteractive',\n",
              "                                                     [key], {});\n",
              "          if (!dataTable) return;\n",
              "\n",
              "          const docLinkHtml = 'Like what you see? Visit the ' +\n",
              "            '<a target=\"_blank\" href=https://colab.research.google.com/notebooks/data_table.ipynb>data table notebook</a>'\n",
              "            + ' to learn more about interactive tables.';\n",
              "          element.innerHTML = '';\n",
              "          dataTable['output_type'] = 'display_data';\n",
              "          await google.colab.output.renderOutput(dataTable, element);\n",
              "          const docLink = document.createElement('div');\n",
              "          docLink.innerHTML = docLinkHtml;\n",
              "          element.appendChild(docLink);\n",
              "        }\n",
              "      </script>\n",
              "    </div>\n",
              "  </div>\n",
              "  "
            ]
          },
          "metadata": {},
          "execution_count": 10
        }
      ]
    },
    {
      "cell_type": "code",
      "source": [
        "plt.rcParams[\"figure.figsize\"] = (20, 6)\n",
        "la_pm10.plot(x='Date', y='daily_pm10')\n",
        "plt.show()"
      ],
      "metadata": {
        "colab": {
          "base_uri": "https://localhost:8080/",
          "height": 375
        },
        "id": "2pnxdvwJ-Urf",
        "outputId": "d1d1a33b-d644-4c25-ff82-bfd42f0cd8a9"
      },
      "execution_count": null,
      "outputs": [
        {
          "output_type": "display_data",
          "data": {
            "text/plain": [
              "<Figure size 1440x432 with 1 Axes>"
            ],
            "image/png": "[encoded data removed]"
          },
          "metadata": {
            "needs_background": "light"
          }
        }
      ]
    },
    {
      "cell_type": "markdown",
      "source": [
        "should we remove the 411 value?"
      ],
      "metadata": {
        "id": "jWAzqeYiTwL-"
      }
    },
    {
      "cell_type": "code",
      "source": [
        "#normalizing\n",
        "la_pm10['daily_pm10'] = (la_pm10['daily_pm10'] - la_pm10['daily_pm10'].mean()) / la_pm10['daily_pm10'].std()"
      ],
      "metadata": {
        "id": "IsIHvtEKUAMc"
      },
      "execution_count": null,
      "outputs": []
    },
    {
      "cell_type": "code",
      "source": [
        "#groups data by month\n",
        "\n",
        "import pandas as pd\n",
        "# sample data\n",
        "df = pd.DataFrame(pd.date_range({('date':'2020-01-01', '2020-01-31')}, columns=['date', 'daily_pm10'])\n",
        "# groupby your key and freq\n",
        "g = df.groupby(pd.Grouper(key='date', freq='M'))\n",
        "# groups to a list of dataframes with list comprehension\n",
        "dfs = [group for x, group in g]\n",
        "\n",
        "h = df.groupby(df.date.dt.month)['Daily Mean PM10 Concentration'].sum()\n",
        "\n",
        "\n",
        "#dfs.mean(axis = 1, skipna = False)"
      ],
      "metadata": {
        "id": "p15pfXpWubuu",
        "colab": {
          "base_uri": "https://localhost:8080/",
          "height": 381
        },
        "outputId": "9f43b951-4c01-49c5-a3af-adea1714f923"
      },
      "execution_count": null,
      "outputs": [
        {
          "output_type": "error",
          "ename": "ValueError",
          "evalue": "ignored",
          "traceback": [
            "\u001b[0;31m---------------------------------------------------------------------------\u001b[0m",
            "\u001b[0;31mValueError\u001b[0m                                Traceback (most recent call last)",
            "\u001b[0;32m<ipython-input-20-699e8259d983>\u001b[0m in \u001b[0;36m<module>\u001b[0;34m\u001b[0m\n\u001b[1;32m      3\u001b[0m \u001b[0;32mimport\u001b[0m \u001b[0mpandas\u001b[0m \u001b[0;32mas\u001b[0m \u001b[0mpd\u001b[0m\u001b[0;34m\u001b[0m\u001b[0;34m\u001b[0m\u001b[0m\n\u001b[1;32m      4\u001b[0m \u001b[0;31m# sample data\u001b[0m\u001b[0;34m\u001b[0m\u001b[0;34m\u001b[0m\u001b[0;34m\u001b[0m\u001b[0m\n\u001b[0;32m----> 5\u001b[0;31m \u001b[0mdf\u001b[0m \u001b[0;34m=\u001b[0m \u001b[0mpd\u001b[0m\u001b[0;34m.\u001b[0m\u001b[0mDataFrame\u001b[0m\u001b[0;34m(\u001b[0m\u001b[0mpd\u001b[0m\u001b[0;34m.\u001b[0m\u001b[0mdate_range\u001b[0m\u001b[0;34m(\u001b[0m\u001b[0;34m'2020-01-01'\u001b[0m\u001b[0;34m,\u001b[0m \u001b[0;34m'2020-01-31'\u001b[0m\u001b[0;34m)\u001b[0m\u001b[0;34m,\u001b[0m \u001b[0mcolumns\u001b[0m\u001b[0;34m=\u001b[0m\u001b[0;34m[\u001b[0m\u001b[0;34m'date'\u001b[0m\u001b[0;34m,\u001b[0m \u001b[0;34m'daily_pm10'\u001b[0m\u001b[0;34m]\u001b[0m\u001b[0;34m)\u001b[0m\u001b[0;34m\u001b[0m\u001b[0;34m\u001b[0m\u001b[0m\n\u001b[0m\u001b[1;32m      6\u001b[0m \u001b[0;31m# groupby your key and freq\u001b[0m\u001b[0;34m\u001b[0m\u001b[0;34m\u001b[0m\u001b[0;34m\u001b[0m\u001b[0m\n\u001b[1;32m      7\u001b[0m \u001b[0mg\u001b[0m \u001b[0;34m=\u001b[0m \u001b[0mdf\u001b[0m\u001b[0;34m.\u001b[0m\u001b[0mgroupby\u001b[0m\u001b[0;34m(\u001b[0m\u001b[0mpd\u001b[0m\u001b[0;34m.\u001b[0m\u001b[0mGrouper\u001b[0m\u001b[0;34m(\u001b[0m\u001b[0mkey\u001b[0m\u001b[0;34m=\u001b[0m\u001b[0;34m'date'\u001b[0m\u001b[0;34m,\u001b[0m \u001b[0mfreq\u001b[0m\u001b[0;34m=\u001b[0m\u001b[0;34m'M'\u001b[0m\u001b[0;34m)\u001b[0m\u001b[0;34m)\u001b[0m\u001b[0;34m\u001b[0m\u001b[0;34m\u001b[0m\u001b[0m\n",
            "\u001b[0;32m/usr/local/lib/python3.8/dist-packages/pandas/core/frame.py\u001b[0m in \u001b[0;36m__init__\u001b[0;34m(self, data, index, columns, dtype, copy)\u001b[0m\n\u001b[1;32m    670\u001b[0m                 )\n\u001b[1;32m    671\u001b[0m             \u001b[0;32melse\u001b[0m\u001b[0;34m:\u001b[0m\u001b[0;34m\u001b[0m\u001b[0;34m\u001b[0m\u001b[0m\n\u001b[0;32m--> 672\u001b[0;31m                 mgr = ndarray_to_mgr(\n\u001b[0m\u001b[1;32m    673\u001b[0m                     \u001b[0mdata\u001b[0m\u001b[0;34m,\u001b[0m\u001b[0;34m\u001b[0m\u001b[0;34m\u001b[0m\u001b[0m\n\u001b[1;32m    674\u001b[0m                     \u001b[0mindex\u001b[0m\u001b[0;34m,\u001b[0m\u001b[0;34m\u001b[0m\u001b[0;34m\u001b[0m\u001b[0m\n",
            "\u001b[0;32m/usr/local/lib/python3.8/dist-packages/pandas/core/internals/construction.py\u001b[0m in \u001b[0;36mndarray_to_mgr\u001b[0;34m(values, index, columns, dtype, copy, typ)\u001b[0m\n\u001b[1;32m    322\u001b[0m     )\n\u001b[1;32m    323\u001b[0m \u001b[0;34m\u001b[0m\u001b[0m\n\u001b[0;32m--> 324\u001b[0;31m     \u001b[0m_check_values_indices_shape_match\u001b[0m\u001b[0;34m(\u001b[0m\u001b[0mvalues\u001b[0m\u001b[0;34m,\u001b[0m \u001b[0mindex\u001b[0m\u001b[0;34m,\u001b[0m \u001b[0mcolumns\u001b[0m\u001b[0;34m)\u001b[0m\u001b[0;34m\u001b[0m\u001b[0;34m\u001b[0m\u001b[0m\n\u001b[0m\u001b[1;32m    325\u001b[0m \u001b[0;34m\u001b[0m\u001b[0m\n\u001b[1;32m    326\u001b[0m     \u001b[0;32mif\u001b[0m \u001b[0mtyp\u001b[0m \u001b[0;34m==\u001b[0m \u001b[0;34m\"array\"\u001b[0m\u001b[0;34m:\u001b[0m\u001b[0;34m\u001b[0m\u001b[0;34m\u001b[0m\u001b[0m\n",
            "\u001b[0;32m/usr/local/lib/python3.8/dist-packages/pandas/core/internals/construction.py\u001b[0m in \u001b[0;36m_check_values_indices_shape_match\u001b[0;34m(values, index, columns)\u001b[0m\n\u001b[1;32m    391\u001b[0m         \u001b[0mpassed\u001b[0m \u001b[0;34m=\u001b[0m \u001b[0mvalues\u001b[0m\u001b[0;34m.\u001b[0m\u001b[0mshape\u001b[0m\u001b[0;34m\u001b[0m\u001b[0;34m\u001b[0m\u001b[0m\n\u001b[1;32m    392\u001b[0m         \u001b[0mimplied\u001b[0m \u001b[0;34m=\u001b[0m \u001b[0;34m(\u001b[0m\u001b[0mlen\u001b[0m\u001b[0;34m(\u001b[0m\u001b[0mindex\u001b[0m\u001b[0;34m)\u001b[0m\u001b[0;34m,\u001b[0m \u001b[0mlen\u001b[0m\u001b[0;34m(\u001b[0m\u001b[0mcolumns\u001b[0m\u001b[0;34m)\u001b[0m\u001b[0;34m)\u001b[0m\u001b[0;34m\u001b[0m\u001b[0;34m\u001b[0m\u001b[0m\n\u001b[0;32m--> 393\u001b[0;31m         \u001b[0;32mraise\u001b[0m \u001b[0mValueError\u001b[0m\u001b[0;34m(\u001b[0m\u001b[0;34mf\"Shape of passed values is {passed}, indices imply {implied}\"\u001b[0m\u001b[0;34m)\u001b[0m\u001b[0;34m\u001b[0m\u001b[0;34m\u001b[0m\u001b[0m\n\u001b[0m\u001b[1;32m    394\u001b[0m \u001b[0;34m\u001b[0m\u001b[0m\n\u001b[1;32m    395\u001b[0m \u001b[0;34m\u001b[0m\u001b[0m\n",
            "\u001b[0;31mValueError\u001b[0m: Shape of passed values is (31, 1), indices imply (31, 2)"
          ]
        }
      ]
    },
    {
      "cell_type": "code",
      "source": [
        "dfs"
      ],
      "metadata": {
        "colab": {
          "base_uri": "https://localhost:8080/"
        },
        "id": "aAey4PCruXa5",
        "outputId": "effc0489-3d71-4050-a282-6b8d7e771d53"
      },
      "execution_count": null,
      "outputs": [
        {
          "output_type": "execute_result",
          "data": {
            "text/plain": [
              "[   daily_pm10\n",
              " 0  2020-01-01\n",
              " 1  2020-01-02\n",
              " 2  2020-01-03\n",
              " 3  2020-01-04\n",
              " 4  2020-01-05\n",
              " 5  2020-01-06\n",
              " 6  2020-01-07\n",
              " 7  2020-01-08\n",
              " 8  2020-01-09\n",
              " 9  2020-01-10\n",
              " 10 2020-01-11\n",
              " 11 2020-01-12\n",
              " 12 2020-01-13\n",
              " 13 2020-01-14\n",
              " 14 2020-01-15\n",
              " 15 2020-01-16\n",
              " 16 2020-01-17\n",
              " 17 2020-01-18\n",
              " 18 2020-01-19\n",
              " 19 2020-01-20\n",
              " 20 2020-01-21\n",
              " 21 2020-01-22\n",
              " 22 2020-01-23\n",
              " 23 2020-01-24\n",
              " 24 2020-01-25\n",
              " 25 2020-01-26\n",
              " 26 2020-01-27\n",
              " 27 2020-01-28\n",
              " 28 2020-01-29\n",
              " 29 2020-01-30\n",
              " 30 2020-01-31]"
            ]
          },
          "metadata": {},
          "execution_count": 18
        }
      ]
    },
    {
      "cell_type": "markdown",
      "source": [
        "Data Splitting"
      ],
      "metadata": {
        "id": "eFsiquUc3WDt"
      }
    },
    {
      "cell_type": "markdown",
      "source": [
        "We don't want to randomly split the data since this forecasting is dependent on time. So, we want to split it sequentially. \n",
        "\n",
        "Training: 2020 and 2021 vals"
      ],
      "metadata": {
        "id": "8B3Kx0KHvWto"
      }
    },
    {
      "cell_type": "markdown",
      "source": [
        "Rolling Window Split"
      ],
      "metadata": {
        "id": "QOu2DaoOgK5R"
      }
    },
    {
      "cell_type": "code",
      "source": [
        "window_size = 10\n",
        "target_size = 5"
      ],
      "metadata": {
        "id": "spFmyVr2gKkt"
      },
      "execution_count": null,
      "outputs": []
    },
    {
      "cell_type": "code",
      "source": [
        "X_sequences = []\n",
        "y_sequences = []"
      ],
      "metadata": {
        "id": "AMTBDgR45f9e"
      },
      "execution_count": null,
      "outputs": []
    },
    {
      "cell_type": "code",
      "source": [
        "la_pm10"
      ],
      "metadata": {
        "colab": {
          "base_uri": "https://localhost:8080/",
          "height": 424
        },
        "id": "x7KBcKeOkS_5",
        "outputId": "7f9ed9c8-de24-4da9-ebb1-fa2be22f8ea1"
      },
      "execution_count": null,
      "outputs": [
        {
          "output_type": "execute_result",
          "data": {
            "text/plain": [
              "           Date  daily_pm10\n",
              "0    2020-01-04   -0.193946\n",
              "1    2020-01-10   -0.501314\n",
              "2    2020-01-16    0.236370\n",
              "3    2020-01-22   -0.439841\n",
              "4    2020-01-28   -0.316893\n",
              "...         ...         ...\n",
              "1493 2022-09-26   -0.009525\n",
              "1494 2022-09-27    0.113422\n",
              "1495 2022-09-28    0.420790\n",
              "1496 2022-09-29    0.543738\n",
              "1497 2022-09-30   -0.009525\n",
              "\n",
              "[3427 rows x 2 columns]"
            ],
            "text/html": [
              "\n",
              "  <div id=\"df-4a7ac3ee-181b-473a-b765-8bad5408f395\">\n",
              "    <div class=\"colab-df-container\">\n",
              "      <div>\n",
              "<style scoped>\n",
              "    .dataframe tbody tr th:only-of-type {\n",
              "        vertical-align: middle;\n",
              "    }\n",
              "\n",
              "    .dataframe tbody tr th {\n",
              "        vertical-align: top;\n",
              "    }\n",
              "\n",
              "    .dataframe thead th {\n",
              "        text-align: right;\n",
              "    }\n",
              "</style>\n",
              "<table border=\"1\" class=\"dataframe\">\n",
              "  <thead>\n",
              "    <tr style=\"text-align: right;\">\n",
              "      <th></th>\n",
              "      <th>Date</th>\n",
              "      <th>daily_pm10</th>\n",
              "    </tr>\n",
              "  </thead>\n",
              "  <tbody>\n",
              "    <tr>\n",
              "      <th>0</th>\n",
              "      <td>2020-01-04</td>\n",
              "      <td>-0.193946</td>\n",
              "    </tr>\n",
              "    <tr>\n",
              "      <th>1</th>\n",
              "      <td>2020-01-10</td>\n",
              "      <td>-0.501314</td>\n",
              "    </tr>\n",
              "    <tr>\n",
              "      <th>2</th>\n",
              "      <td>2020-01-16</td>\n",
              "      <td>0.236370</td>\n",
              "    </tr>\n",
              "    <tr>\n",
              "      <th>3</th>\n",
              "      <td>2020-01-22</td>\n",
              "      <td>-0.439841</td>\n",
              "    </tr>\n",
              "    <tr>\n",
              "      <th>4</th>\n",
              "      <td>2020-01-28</td>\n",
              "      <td>-0.316893</td>\n",
              "    </tr>\n",
              "    <tr>\n",
              "      <th>...</th>\n",
              "      <td>...</td>\n",
              "      <td>...</td>\n",
              "    </tr>\n",
              "    <tr>\n",
              "      <th>1493</th>\n",
              "      <td>2022-09-26</td>\n",
              "      <td>-0.009525</td>\n",
              "    </tr>\n",
              "    <tr>\n",
              "      <th>1494</th>\n",
              "      <td>2022-09-27</td>\n",
              "      <td>0.113422</td>\n",
              "    </tr>\n",
              "    <tr>\n",
              "      <th>1495</th>\n",
              "      <td>2022-09-28</td>\n",
              "      <td>0.420790</td>\n",
              "    </tr>\n",
              "    <tr>\n",
              "      <th>1496</th>\n",
              "      <td>2022-09-29</td>\n",
              "      <td>0.543738</td>\n",
              "    </tr>\n",
              "    <tr>\n",
              "      <th>1497</th>\n",
              "      <td>2022-09-30</td>\n",
              "      <td>-0.009525</td>\n",
              "    </tr>\n",
              "  </tbody>\n",
              "</table>\n",
              "<p>3427 rows × 2 columns</p>\n",
              "</div>\n",
              "      <button class=\"colab-df-convert\" onclick=\"convertToInteractive('df-4a7ac3ee-181b-473a-b765-8bad5408f395')\"\n",
              "              title=\"Convert this dataframe to an interactive table.\"\n",
              "              style=\"display:none;\">\n",
              "        \n",
              "  <svg xmlns=\"http://www.w3.org/2000/svg\" height=\"24px\"viewBox=\"0 0 24 24\"\n",
              "       width=\"24px\">\n",
              "    <path d=\"M0 0h24v24H0V0z\" fill=\"none\"/>\n",
              "    <path d=\"M18.56 5.44l.94 2.06.94-2.06 2.06-.94-2.06-.94-.94-2.06-.94 2.06-2.06.94zm-11 1L8.5 8.5l.94-2.06 2.06-.94-2.06-.94L8.5 2.5l-.94 2.06-2.06.94zm10 10l.94 2.06.94-2.06 2.06-.94-2.06-.94-.94-2.06-.94 2.06-2.06.94z\"/><path d=\"M17.41 7.96l-1.37-1.37c-.4-.4-.92-.59-1.43-.59-.52 0-1.04.2-1.43.59L10.3 9.45l-7.72 7.72c-.78.78-.78 2.05 0 2.83L4 21.41c.39.39.9.59 1.41.59.51 0 1.02-.2 1.41-.59l7.78-7.78 2.81-2.81c.8-.78.8-2.07 0-2.86zM5.41 20L4 18.59l7.72-7.72 1.47 1.35L5.41 20z\"/>\n",
              "  </svg>\n",
              "      </button>\n",
              "      \n",
              "  <style>\n",
              "    .colab-df-container {\n",
              "      display:flex;\n",
              "      flex-wrap:wrap;\n",
              "      gap: 12px;\n",
              "    }\n",
              "\n",
              "    .colab-df-convert {\n",
              "      background-color: #E8F0FE;\n",
              "      border: none;\n",
              "      border-radius: 50%;\n",
              "      cursor: pointer;\n",
              "      display: none;\n",
              "      fill: #1967D2;\n",
              "      height: 32px;\n",
              "      padding: 0 0 0 0;\n",
              "      width: 32px;\n",
              "    }\n",
              "\n",
              "    .colab-df-convert:hover {\n",
              "      background-color: #E2EBFA;\n",
              "      box-shadow: 0px 1px 2px rgba(60, 64, 67, 0.3), 0px 1px 3px 1px rgba(60, 64, 67, 0.15);\n",
              "      fill: #174EA6;\n",
              "    }\n",
              "\n",
              "    [theme=dark] .colab-df-convert {\n",
              "      background-color: #3B4455;\n",
              "      fill: #D2E3FC;\n",
              "    }\n",
              "\n",
              "    [theme=dark] .colab-df-convert:hover {\n",
              "      background-color: #434B5C;\n",
              "      box-shadow: 0px 1px 3px 1px rgba(0, 0, 0, 0.15);\n",
              "      filter: drop-shadow(0px 1px 2px rgba(0, 0, 0, 0.3));\n",
              "      fill: #FFFFFF;\n",
              "    }\n",
              "  </style>\n",
              "\n",
              "      <script>\n",
              "        const buttonEl =\n",
              "          document.querySelector('#df-4a7ac3ee-181b-473a-b765-8bad5408f395 button.colab-df-convert');\n",
              "        buttonEl.style.display =\n",
              "          google.colab.kernel.accessAllowed ? 'block' : 'none';\n",
              "\n",
              "        async function convertToInteractive(key) {\n",
              "          const element = document.querySelector('#df-4a7ac3ee-181b-473a-b765-8bad5408f395');\n",
              "          const dataTable =\n",
              "            await google.colab.kernel.invokeFunction('convertToInteractive',\n",
              "                                                     [key], {});\n",
              "          if (!dataTable) return;\n",
              "\n",
              "          const docLinkHtml = 'Like what you see? Visit the ' +\n",
              "            '<a target=\"_blank\" href=https://colab.research.google.com/notebooks/data_table.ipynb>data table notebook</a>'\n",
              "            + ' to learn more about interactive tables.';\n",
              "          element.innerHTML = '';\n",
              "          dataTable['output_type'] = 'display_data';\n",
              "          await google.colab.output.renderOutput(dataTable, element);\n",
              "          const docLink = document.createElement('div');\n",
              "          docLink.innerHTML = docLinkHtml;\n",
              "          element.appendChild(docLink);\n",
              "        }\n",
              "      </script>\n",
              "    </div>\n",
              "  </div>\n",
              "  "
            ]
          },
          "metadata": {},
          "execution_count": 15
        }
      ]
    },
    {
      "cell_type": "markdown",
      "source": [
        "Data Split"
      ],
      "metadata": {
        "id": "0kSJtt-6l1Mt"
      }
    },
    {
      "cell_type": "code",
      "source": [
        "# one way of data splitting\n",
        "# X = la_pm10['Date']\n",
        "# y = la_pm10['daily_pm10']\n",
        "# X_train, X_test, y_train, y_test = train_test_split(X, y, test_size=0.2, shuffle = False)"
      ],
      "metadata": {
        "id": "KyLmJzEGjv0m"
      },
      "execution_count": null,
      "outputs": []
    },
    {
      "cell_type": "markdown",
      "source": [
        "Model Building"
      ],
      "metadata": {
        "id": "t_rA3rq43O9j"
      }
    },
    {
      "cell_type": "code",
      "source": [
        "# another way of data splitting\n",
        "train_df, test_df = train_test_split(la_pm10, test_size=0.2, shuffle = False)"
      ],
      "metadata": {
        "id": "_t0Nws4PnQSJ"
      },
      "execution_count": null,
      "outputs": []
    },
    {
      "cell_type": "code",
      "source": [
        "# define the model\n",
        "model = Sequential()\n",
        "model.add(LSTM(50, input_shape=(train_df.shape[1], 1)))\n",
        "model.add(Dense(1))\n",
        "model.compile(loss='mae', optimizer='adam')"
      ],
      "metadata": {
        "id": "PfQMxvf-3RzG"
      },
      "execution_count": null,
      "outputs": []
    },
    {
      "cell_type": "markdown",
      "source": [
        "Model Fitting"
      ],
      "metadata": {
        "id": "nVdli37b4Wix"
      }
    },
    {
      "cell_type": "code",
      "source": [
        "# X_train = np.asarray(X_train).astype(np.float32)\n",
        "# y_train = np.asarray(y_train).astype(np.float32)\n",
        "# X_test = np.asarray(X_test).astype(np.float32)\n",
        "# y_test = np.asarray(y_test).astype(np.float32)"
      ],
      "metadata": {
        "id": "emcuETL4sMLe"
      },
      "execution_count": null,
      "outputs": []
    },
    {
      "cell_type": "code",
      "source": [
        "# print(X_train.shape, y_train.shape, train_df.shape[0], train_df.shape[1])"
      ],
      "metadata": {
        "colab": {
          "base_uri": "https://localhost:8080/"
        },
        "id": "AcM_S2cZvmXc",
        "outputId": "f6740c1e-05ae-46ab-e869-6f7b4609f402"
      },
      "execution_count": null,
      "outputs": [
        {
          "output_type": "stream",
          "name": "stdout",
          "text": [
            "(2741,) (2741,) 2741 2\n"
          ]
        }
      ]
    },
    {
      "cell_type": "code",
      "source": [
        "train_df"
      ],
      "metadata": {
        "colab": {
          "base_uri": "https://localhost:8080/",
          "height": 424
        },
        "id": "E5C0SuKjpyRU",
        "outputId": "3c1f5ead-907d-4854-8a09-277fb336bf2e"
      },
      "execution_count": null,
      "outputs": [
        {
          "output_type": "execute_result",
          "data": {
            "text/plain": [
              "          Date  daily_pm10\n",
              "0   2020-01-04   -0.193946\n",
              "1   2020-01-10   -0.501314\n",
              "2   2020-01-16    0.236370\n",
              "3   2020-01-22   -0.439841\n",
              "4   2020-01-28   -0.316893\n",
              "..         ...         ...\n",
              "807 2022-06-12   -0.685735\n",
              "808 2022-06-13   -0.808683\n",
              "809 2022-06-14    0.297843\n",
              "810 2022-06-15    0.605211\n",
              "811 2022-06-16    0.543738\n",
              "\n",
              "[2741 rows x 2 columns]"
            ],
            "text/html": [
              "\n",
              "  <div id=\"df-4b071f3d-85fa-44d7-99eb-6b411180abe0\">\n",
              "    <div class=\"colab-df-container\">\n",
              "      <div>\n",
              "<style scoped>\n",
              "    .dataframe tbody tr th:only-of-type {\n",
              "        vertical-align: middle;\n",
              "    }\n",
              "\n",
              "    .dataframe tbody tr th {\n",
              "        vertical-align: top;\n",
              "    }\n",
              "\n",
              "    .dataframe thead th {\n",
              "        text-align: right;\n",
              "    }\n",
              "</style>\n",
              "<table border=\"1\" class=\"dataframe\">\n",
              "  <thead>\n",
              "    <tr style=\"text-align: right;\">\n",
              "      <th></th>\n",
              "      <th>Date</th>\n",
              "      <th>daily_pm10</th>\n",
              "    </tr>\n",
              "  </thead>\n",
              "  <tbody>\n",
              "    <tr>\n",
              "      <th>0</th>\n",
              "      <td>2020-01-04</td>\n",
              "      <td>-0.193946</td>\n",
              "    </tr>\n",
              "    <tr>\n",
              "      <th>1</th>\n",
              "      <td>2020-01-10</td>\n",
              "      <td>-0.501314</td>\n",
              "    </tr>\n",
              "    <tr>\n",
              "      <th>2</th>\n",
              "      <td>2020-01-16</td>\n",
              "      <td>0.236370</td>\n",
              "    </tr>\n",
              "    <tr>\n",
              "      <th>3</th>\n",
              "      <td>2020-01-22</td>\n",
              "      <td>-0.439841</td>\n",
              "    </tr>\n",
              "    <tr>\n",
              "      <th>4</th>\n",
              "      <td>2020-01-28</td>\n",
              "      <td>-0.316893</td>\n",
              "    </tr>\n",
              "    <tr>\n",
              "      <th>...</th>\n",
              "      <td>...</td>\n",
              "      <td>...</td>\n",
              "    </tr>\n",
              "    <tr>\n",
              "      <th>807</th>\n",
              "      <td>2022-06-12</td>\n",
              "      <td>-0.685735</td>\n",
              "    </tr>\n",
              "    <tr>\n",
              "      <th>808</th>\n",
              "      <td>2022-06-13</td>\n",
              "      <td>-0.808683</td>\n",
              "    </tr>\n",
              "    <tr>\n",
              "      <th>809</th>\n",
              "      <td>2022-06-14</td>\n",
              "      <td>0.297843</td>\n",
              "    </tr>\n",
              "    <tr>\n",
              "      <th>810</th>\n",
              "      <td>2022-06-15</td>\n",
              "      <td>0.605211</td>\n",
              "    </tr>\n",
              "    <tr>\n",
              "      <th>811</th>\n",
              "      <td>2022-06-16</td>\n",
              "      <td>0.543738</td>\n",
              "    </tr>\n",
              "  </tbody>\n",
              "</table>\n",
              "<p>2741 rows × 2 columns</p>\n",
              "</div>\n",
              "      <button class=\"colab-df-convert\" onclick=\"convertToInteractive('df-4b071f3d-85fa-44d7-99eb-6b411180abe0')\"\n",
              "              title=\"Convert this dataframe to an interactive table.\"\n",
              "              style=\"display:none;\">\n",
              "        \n",
              "  <svg xmlns=\"http://www.w3.org/2000/svg\" height=\"24px\"viewBox=\"0 0 24 24\"\n",
              "       width=\"24px\">\n",
              "    <path d=\"M0 0h24v24H0V0z\" fill=\"none\"/>\n",
              "    <path d=\"M18.56 5.44l.94 2.06.94-2.06 2.06-.94-2.06-.94-.94-2.06-.94 2.06-2.06.94zm-11 1L8.5 8.5l.94-2.06 2.06-.94-2.06-.94L8.5 2.5l-.94 2.06-2.06.94zm10 10l.94 2.06.94-2.06 2.06-.94-2.06-.94-.94-2.06-.94 2.06-2.06.94z\"/><path d=\"M17.41 7.96l-1.37-1.37c-.4-.4-.92-.59-1.43-.59-.52 0-1.04.2-1.43.59L10.3 9.45l-7.72 7.72c-.78.78-.78 2.05 0 2.83L4 21.41c.39.39.9.59 1.41.59.51 0 1.02-.2 1.41-.59l7.78-7.78 2.81-2.81c.8-.78.8-2.07 0-2.86zM5.41 20L4 18.59l7.72-7.72 1.47 1.35L5.41 20z\"/>\n",
              "  </svg>\n",
              "      </button>\n",
              "      \n",
              "  <style>\n",
              "    .colab-df-container {\n",
              "      display:flex;\n",
              "      flex-wrap:wrap;\n",
              "      gap: 12px;\n",
              "    }\n",
              "\n",
              "    .colab-df-convert {\n",
              "      background-color: #E8F0FE;\n",
              "      border: none;\n",
              "      border-radius: 50%;\n",
              "      cursor: pointer;\n",
              "      display: none;\n",
              "      fill: #1967D2;\n",
              "      height: 32px;\n",
              "      padding: 0 0 0 0;\n",
              "      width: 32px;\n",
              "    }\n",
              "\n",
              "    .colab-df-convert:hover {\n",
              "      background-color: #E2EBFA;\n",
              "      box-shadow: 0px 1px 2px rgba(60, 64, 67, 0.3), 0px 1px 3px 1px rgba(60, 64, 67, 0.15);\n",
              "      fill: #174EA6;\n",
              "    }\n",
              "\n",
              "    [theme=dark] .colab-df-convert {\n",
              "      background-color: #3B4455;\n",
              "      fill: #D2E3FC;\n",
              "    }\n",
              "\n",
              "    [theme=dark] .colab-df-convert:hover {\n",
              "      background-color: #434B5C;\n",
              "      box-shadow: 0px 1px 3px 1px rgba(0, 0, 0, 0.15);\n",
              "      filter: drop-shadow(0px 1px 2px rgba(0, 0, 0, 0.3));\n",
              "      fill: #FFFFFF;\n",
              "    }\n",
              "  </style>\n",
              "\n",
              "      <script>\n",
              "        const buttonEl =\n",
              "          document.querySelector('#df-4b071f3d-85fa-44d7-99eb-6b411180abe0 button.colab-df-convert');\n",
              "        buttonEl.style.display =\n",
              "          google.colab.kernel.accessAllowed ? 'block' : 'none';\n",
              "\n",
              "        async function convertToInteractive(key) {\n",
              "          const element = document.querySelector('#df-4b071f3d-85fa-44d7-99eb-6b411180abe0');\n",
              "          const dataTable =\n",
              "            await google.colab.kernel.invokeFunction('convertToInteractive',\n",
              "                                                     [key], {});\n",
              "          if (!dataTable) return;\n",
              "\n",
              "          const docLinkHtml = 'Like what you see? Visit the ' +\n",
              "            '<a target=\"_blank\" href=https://colab.research.google.com/notebooks/data_table.ipynb>data table notebook</a>'\n",
              "            + ' to learn more about interactive tables.';\n",
              "          element.innerHTML = '';\n",
              "          dataTable['output_type'] = 'display_data';\n",
              "          await google.colab.output.renderOutput(dataTable, element);\n",
              "          const docLink = document.createElement('div');\n",
              "          docLink.innerHTML = docLinkHtml;\n",
              "          element.appendChild(docLink);\n",
              "        }\n",
              "      </script>\n",
              "    </div>\n",
              "  </div>\n",
              "  "
            ]
          },
          "metadata": {},
          "execution_count": 44
        }
      ]
    },
    {
      "cell_type": "code",
      "source": [
        "train_df['Date'] = pd.to_datetime(train_df['Date'])\n",
        "test_df['Date'] = pd.to_datetime(test_df['Date'])"
      ],
      "metadata": {
        "id": "AZQsVQVupgTE"
      },
      "execution_count": null,
      "outputs": []
    },
    {
      "cell_type": "code",
      "source": [
        "train_df = np.array(train_df)\n",
        "test_df = np.array(test_df)"
      ],
      "metadata": {
        "id": "YIWRKV-JqIY9"
      },
      "execution_count": null,
      "outputs": []
    },
    {
      "cell_type": "code",
      "source": [
        "train_df"
      ],
      "metadata": {
        "colab": {
          "base_uri": "https://localhost:8080/"
        },
        "id": "28iO7YITq6ol",
        "outputId": "1da72909-af7e-4f24-92b1-deab9bda8dc8"
      },
      "execution_count": null,
      "outputs": [
        {
          "output_type": "execute_result",
          "data": {
            "text/plain": [
              "array([[Timestamp('2020-01-04 00:00:00'), -0.19394604800174764],\n",
              "       [Timestamp('2020-01-10 00:00:00'), -0.5013142992512802],\n",
              "       [Timestamp('2020-01-16 00:00:00'), 0.23636950374759796],\n",
              "       ...,\n",
              "       [Timestamp('2022-06-14 00:00:00'), 0.2978431539975045],\n",
              "       [Timestamp('2022-06-15 00:00:00'), 0.6052114052470371],\n",
              "       [Timestamp('2022-06-16 00:00:00'), 0.5437377549971305]],\n",
              "      dtype=object)"
            ]
          },
          "metadata": {},
          "execution_count": 60
        }
      ]
    },
    {
      "cell_type": "code",
      "source": [
        "timestamps = np.array([row[0] for row in input_data])"
      ],
      "metadata": {
        "id": "-b0kgZ4erxyR",
        "outputId": "473b8e89-03bb-4dd4-91ac-3d63294c4466",
        "colab": {
          "base_uri": "https://localhost:8080/",
          "height": 166
        }
      },
      "execution_count": null,
      "outputs": [
        {
          "output_type": "error",
          "ename": "NameError",
          "evalue": "ignored",
          "traceback": [
            "\u001b[0;31m---------------------------------------------------------------------------\u001b[0m",
            "\u001b[0;31mNameError\u001b[0m                                 Traceback (most recent call last)",
            "\u001b[0;32m<ipython-input-6-5b6688eb5177>\u001b[0m in \u001b[0;36m<module>\u001b[0;34m\u001b[0m\n\u001b[0;32m----> 1\u001b[0;31m \u001b[0mtimestamps\u001b[0m \u001b[0;34m=\u001b[0m \u001b[0mnp\u001b[0m\u001b[0;34m.\u001b[0m\u001b[0marray\u001b[0m\u001b[0;34m(\u001b[0m\u001b[0;34m[\u001b[0m\u001b[0mrow\u001b[0m\u001b[0;34m[\u001b[0m\u001b[0;36m0\u001b[0m\u001b[0;34m]\u001b[0m \u001b[0;32mfor\u001b[0m \u001b[0mrow\u001b[0m \u001b[0;32min\u001b[0m \u001b[0minput_data\u001b[0m\u001b[0;34m]\u001b[0m\u001b[0;34m)\u001b[0m\u001b[0;34m\u001b[0m\u001b[0;34m\u001b[0m\u001b[0m\n\u001b[0m",
            "\u001b[0;31mNameError\u001b[0m: name 'np' is not defined"
          ]
        }
      ]
    },
    {
      "cell_type": "code",
      "source": [
        "# pandas library to convert the timestamp to datetime64[ns] and then convert it to numpy array\n",
        "model.fit(train_df, epochs = 100, batch_size = 30)\n"
      ],
      "metadata": {
        "colab": {
          "base_uri": "https://localhost:8080/",
          "height": 336
        },
        "id": "1QwMyoLogfpb",
        "outputId": "e8be632a-b3a8-455b-9bd6-8bbb234bc08d"
      },
      "execution_count": null,
      "outputs": [
        {
          "output_type": "error",
          "ename": "ValueError",
          "evalue": "ignored",
          "traceback": [
            "\u001b[0;31m---------------------------------------------------------------------------\u001b[0m",
            "\u001b[0;31mValueError\u001b[0m                                Traceback (most recent call last)",
            "\u001b[0;32m<ipython-input-55-f4dd434490af>\u001b[0m in \u001b[0;36m<module>\u001b[0;34m\u001b[0m\n\u001b[1;32m      1\u001b[0m \u001b[0;31m# pandas library to convert the timestamp to datetime64[ns] and then convert it to numpy array\u001b[0m\u001b[0;34m\u001b[0m\u001b[0;34m\u001b[0m\u001b[0;34m\u001b[0m\u001b[0m\n\u001b[0;32m----> 2\u001b[0;31m \u001b[0mmodel\u001b[0m\u001b[0;34m.\u001b[0m\u001b[0mfit\u001b[0m\u001b[0;34m(\u001b[0m\u001b[0mtrain_df\u001b[0m\u001b[0;34m,\u001b[0m \u001b[0mepochs\u001b[0m \u001b[0;34m=\u001b[0m \u001b[0;36m100\u001b[0m\u001b[0;34m,\u001b[0m \u001b[0mbatch_size\u001b[0m \u001b[0;34m=\u001b[0m \u001b[0;36m30\u001b[0m\u001b[0;34m)\u001b[0m\u001b[0;34m\u001b[0m\u001b[0;34m\u001b[0m\u001b[0m\n\u001b[0m",
            "\u001b[0;32m/usr/local/lib/python3.8/dist-packages/keras/utils/traceback_utils.py\u001b[0m in \u001b[0;36merror_handler\u001b[0;34m(*args, **kwargs)\u001b[0m\n\u001b[1;32m     65\u001b[0m     \u001b[0;32mexcept\u001b[0m \u001b[0mException\u001b[0m \u001b[0;32mas\u001b[0m \u001b[0me\u001b[0m\u001b[0;34m:\u001b[0m  \u001b[0;31m# pylint: disable=broad-except\u001b[0m\u001b[0;34m\u001b[0m\u001b[0;34m\u001b[0m\u001b[0m\n\u001b[1;32m     66\u001b[0m       \u001b[0mfiltered_tb\u001b[0m \u001b[0;34m=\u001b[0m \u001b[0m_process_traceback_frames\u001b[0m\u001b[0;34m(\u001b[0m\u001b[0me\u001b[0m\u001b[0;34m.\u001b[0m\u001b[0m__traceback__\u001b[0m\u001b[0;34m)\u001b[0m\u001b[0;34m\u001b[0m\u001b[0;34m\u001b[0m\u001b[0m\n\u001b[0;32m---> 67\u001b[0;31m       \u001b[0;32mraise\u001b[0m \u001b[0me\u001b[0m\u001b[0;34m.\u001b[0m\u001b[0mwith_traceback\u001b[0m\u001b[0;34m(\u001b[0m\u001b[0mfiltered_tb\u001b[0m\u001b[0;34m)\u001b[0m \u001b[0;32mfrom\u001b[0m \u001b[0;32mNone\u001b[0m\u001b[0;34m\u001b[0m\u001b[0;34m\u001b[0m\u001b[0m\n\u001b[0m\u001b[1;32m     68\u001b[0m     \u001b[0;32mfinally\u001b[0m\u001b[0;34m:\u001b[0m\u001b[0;34m\u001b[0m\u001b[0;34m\u001b[0m\u001b[0m\n\u001b[1;32m     69\u001b[0m       \u001b[0;32mdel\u001b[0m \u001b[0mfiltered_tb\u001b[0m\u001b[0;34m\u001b[0m\u001b[0;34m\u001b[0m\u001b[0m\n",
            "\u001b[0;32m/usr/local/lib/python3.8/dist-packages/tensorflow/python/framework/constant_op.py\u001b[0m in \u001b[0;36mconvert_to_eager_tensor\u001b[0;34m(value, ctx, dtype)\u001b[0m\n\u001b[1;32m    100\u001b[0m       \u001b[0mdtype\u001b[0m \u001b[0;34m=\u001b[0m \u001b[0mdtypes\u001b[0m\u001b[0;34m.\u001b[0m\u001b[0mas_dtype\u001b[0m\u001b[0;34m(\u001b[0m\u001b[0mdtype\u001b[0m\u001b[0;34m)\u001b[0m\u001b[0;34m.\u001b[0m\u001b[0mas_datatype_enum\u001b[0m\u001b[0;34m\u001b[0m\u001b[0;34m\u001b[0m\u001b[0m\n\u001b[1;32m    101\u001b[0m   \u001b[0mctx\u001b[0m\u001b[0;34m.\u001b[0m\u001b[0mensure_initialized\u001b[0m\u001b[0;34m(\u001b[0m\u001b[0;34m)\u001b[0m\u001b[0;34m\u001b[0m\u001b[0;34m\u001b[0m\u001b[0m\n\u001b[0;32m--> 102\u001b[0;31m   \u001b[0;32mreturn\u001b[0m \u001b[0mops\u001b[0m\u001b[0;34m.\u001b[0m\u001b[0mEagerTensor\u001b[0m\u001b[0;34m(\u001b[0m\u001b[0mvalue\u001b[0m\u001b[0;34m,\u001b[0m \u001b[0mctx\u001b[0m\u001b[0;34m.\u001b[0m\u001b[0mdevice_name\u001b[0m\u001b[0;34m,\u001b[0m \u001b[0mdtype\u001b[0m\u001b[0;34m)\u001b[0m\u001b[0;34m\u001b[0m\u001b[0;34m\u001b[0m\u001b[0m\n\u001b[0m\u001b[1;32m    103\u001b[0m \u001b[0;34m\u001b[0m\u001b[0m\n\u001b[1;32m    104\u001b[0m \u001b[0;34m\u001b[0m\u001b[0m\n",
            "\u001b[0;31mValueError\u001b[0m: Failed to convert a NumPy array to a Tensor (Unsupported object type Timestamp)."
          ]
        }
      ]
    }
  ]
}